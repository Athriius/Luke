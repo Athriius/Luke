{
 "cells": [
  {
   "attachments": {},
   "cell_type": "markdown",
   "metadata": {},
   "source": [
    "# Building Simulations\n",
    "> \n",
    "\n",
    "- toc: true \n",
    "- badges: true\n",
    "- comments: true\n",
    "- categories: [jupyter, week-28]"
   ]
  },
  {
   "attachments": {},
   "cell_type": "markdown",
   "metadata": {},
   "source": [
    "Lists:\n",
    "- Lists are a collection of elements\n",
    "- Lists are also called arrays\n",
    "- Nested lists allow you to have arrays of similar data together.\n",
    "\n",
    "Iteration:\n",
    "- Iterative statements are also called __?\n",
    "- "
   ]
  },
  {
   "cell_type": "code",
   "execution_count": 5,
   "metadata": {},
   "outputs": [
    {
     "name": "stdout",
     "output_type": "stream",
     "text": [
      "List before reverse :  [1, 2, 3, 4, 5]\n",
      "List after reverse :  [5, 4, 3, 2, 1]\n"
     ]
    }
   ],
   "source": [
    "original_list = [1, 2, 3, 4, 5]\n",
    "print(\"List before reverse : \",original_list)\n",
    "reversed_list = []\n",
    "for value in original_list:\n",
    "  reversed_list = [value] + reversed_list\n",
    "print(\"List after reverse : \", reversed_list)"
   ]
  },
  {
   "cell_type": "code",
   "execution_count": 4,
   "metadata": {},
   "outputs": [
    {
     "name": "stdout",
     "output_type": "stream",
     "text": [
      "array before sort [9, 8, 4, 3, 5, 2, 6, 7, 1, 0]\n",
      "array after sort [0, 1, 2, 3, 4, 5, 6, 7, 8, 9]\n"
     ]
    }
   ],
   "source": [
    "list = [9, 8, 4, 3, 5, 2, 6, 7, 1, 0]\n",
    "print(f\"array before sort {list}\")\n",
    "def insertion_sort(list):\n",
    "    for index in range(1,len(list)): # repeats through length of the array\n",
    "        value = list[index]\n",
    "        i = index - 1\n",
    "        while i >= 0:\n",
    "            if value < list[i]:\n",
    "                list[i+1] = list[i] # shift number in slot i to the right\n",
    "                list[i] = value # shift value left into slot i\n",
    "                i = i - 1\n",
    "            else:\n",
    "                break\n",
    "\n",
    "IS = insertion_sort(list)\n",
    "print(f\"array after sort {list}\")\n"
   ]
  },
  {
   "attachments": {},
   "cell_type": "markdown",
   "metadata": {},
   "source": [
    "Ordererd Dictionaries\n",
    "- Iterates over keys and values in the same order that the keys were inserted\n",
    "- If an entry is deleted and reinserted, then it will be moved to the end of the dictionary\n",
    "- Specially designed to keep its items ordered\n",
    "- Useful in situations where the order of insertion is important and when you need to process data in a specific order\n",
    "- If the order of the data is important, an ordered dictionary is the better choice\n",
    "\n",
    "Regular Dictionary\n",
    "- Mutable; can add, remove, and modify key-value pairs after they have been created\n",
    "- Used to store data values in key:value pairs\n",
    "- Can be iterated over using loops\n",
    "- If order is not important, a regular dictionary may provide better performance\n",
    "\n",
    "Simulations:\n",
    "- Pros: Cost effective, Accuracy, Speed,\n",
    "- Cons: Bias, Limitations, Need to simplify\n",
    "\n",
    "\n",
    "## How is list comprehension similar to iteration?\n",
    "List comprehension requires each item in a list to be viewed which is what iteration it."
   ]
  }
 ],
 "metadata": {
  "kernelspec": {
   "display_name": "Python 3",
   "language": "python",
   "name": "python3"
  },
  "language_info": {
   "codemirror_mode": {
    "name": "ipython",
    "version": 3
   },
   "file_extension": ".py",
   "mimetype": "text/x-python",
   "name": "python",
   "nbconvert_exporter": "python",
   "pygments_lexer": "ipython3",
   "version": "3.11.3"
  },
  "orig_nbformat": 4
 },
 "nbformat": 4,
 "nbformat_minor": 2
}
