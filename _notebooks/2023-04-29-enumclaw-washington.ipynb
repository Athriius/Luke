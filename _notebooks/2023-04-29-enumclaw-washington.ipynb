{
 "cells": [
  {
   "attachments": {},
   "cell_type": "markdown",
   "metadata": {},
   "source": [
    "# CSUSM Comp Science and Information Systems\n",
    "\n",
    "- toc: true \n",
    "- badges: true\n",
    "- comments: true\n",
    "- categories: [jupyter, week-29]\n",
    "\n"
   ]
  },
  {
   "cell_type": "code",
   "execution_count": 7,
   "metadata": {},
   "outputs": [
    {
     "name": "stdout",
     "output_type": "stream",
     "text": [
      "Subtraction:\n",
      "Binary: 100\n",
      "Decimal: 4\n"
     ]
    }
   ],
   "source": [
    "def binary_subtraction(binary1, binary2):\n",
    "    decimal1 = int(binary1, 2)\n",
    "    decimal2 = int(binary2, 2)\n",
    "    decimal = decimal1 - decimal2\n",
    "    binary = bin(decimal)[2:]\n",
    "    return (binary, decimal)\n",
    "\n",
    "\n",
    "# Input\n",
    "binary1 = input(\"\")\n",
    "binary2 = input(\"\")\n",
    "\n",
    "binary, decimal = binary_subtraction(binary1, binary2)\n",
    "print(\"Subtraction:\")\n",
    "print(\"Binary:\", binary)\n",
    "print(\"Decimal:\", decimal)\n"
   ]
  },
  {
   "attachments": {},
   "cell_type": "markdown",
   "metadata": {},
   "source": [
    "## Binary Logic"
   ]
  },
  {
   "cell_type": "code",
   "execution_count": 9,
   "metadata": {},
   "outputs": [
    {
     "ename": "ModuleNotFoundError",
     "evalue": "No module named 'pandas'",
     "output_type": "error",
     "traceback": [
      "\u001b[1;31m---------------------------------------------------------------------------\u001b[0m",
      "\u001b[1;31mModuleNotFoundError\u001b[0m                       Traceback (most recent call last)",
      "Cell \u001b[1;32mIn[9], line 1\u001b[0m\n\u001b[1;32m----> 1\u001b[0m \u001b[39mimport\u001b[39;00m \u001b[39mpandas\u001b[39;00m \u001b[39mas\u001b[39;00m \u001b[39mpd\u001b[39;00m\n\u001b[0;32m      3\u001b[0m \u001b[39m#read csv and sort 'Duration' largest to smallest\u001b[39;00m\n\u001b[0;32m      4\u001b[0m df \u001b[39m=\u001b[39m pd\u001b[39m.\u001b[39mread_csv(\u001b[39m'\u001b[39m\u001b[39mfiles/random_numbers.csv\u001b[39m\u001b[39m'\u001b[39m)\u001b[39m.\u001b[39msort_values(by\u001b[39m=\u001b[39m[\u001b[39m'\u001b[39m\u001b[39mnumber\u001b[39m\u001b[39m'\u001b[39m], ascending\u001b[39m=\u001b[39m\u001b[39mTrue\u001b[39;00m)\n",
      "\u001b[1;31mModuleNotFoundError\u001b[0m: No module named 'pandas'"
     ]
    }
   ],
   "source": [
    "import pandas as pd\n",
    "\n",
    "#read csv and sort 'Duration' largest to smallest\n",
    "df = pd.read_csv('files/random_numbers.csv').sort_values(by=['number'], ascending=True)\n",
    "\n",
    "print(td.query(\"number\").mean())"
   ]
  },
  {
   "attachments": {},
   "cell_type": "markdown",
   "metadata": {},
   "source": [
    "## Logic Gates\n",
    "\n",
    "1. Logic gates are used to execute computer functions with Boolean logic operations on binary inputs. They  can be used to perform arithmetic calculations, control operations, and comparison operations in a computer’s CPU.\n",
    "2. Boolean operations are abstract mathematical operations defined in Boolean algebra, while logic gates are physical devices or circuits that implement these operations by controlling the flow of electricity through them. Boolean operations are the abstract concepts used to describe logical relationships between variables, while logic gates are the physical components that perform these operations in digital circuits."
   ]
  },
  {
   "attachments": {},
   "cell_type": "markdown",
   "metadata": {},
   "source": [
    "## Filtering"
   ]
  },
  {
   "cell_type": "code",
   "execution_count": 15,
   "metadata": {},
   "outputs": [
    {
     "name": "stdout",
     "output_type": "stream",
     "text": [
      "alpha\n",
      "\n",
      "delta\n",
      "gamma\n",
      "epsilon\n",
      "\n",
      "omega\n"
     ]
    }
   ],
   "source": [
    "words = [\"alpha\", \"beta\", \"delta\", \"gamma\", \"epsilon\", \"phi\", \"omega\"]\n",
    "\n",
    "for word in words:\n",
    "    if len(word) >=5:\n",
    "        print(word)\n",
    "    else:\n",
    "        print(\"\")"
   ]
  }
 ],
 "metadata": {
  "kernelspec": {
   "display_name": "Python 3",
   "language": "python",
   "name": "python3"
  },
  "language_info": {
   "codemirror_mode": {
    "name": "ipython",
    "version": 3
   },
   "file_extension": ".py",
   "mimetype": "text/x-python",
   "name": "python",
   "nbconvert_exporter": "python",
   "pygments_lexer": "ipython3",
   "version": "3.11.3"
  },
  "orig_nbformat": 4
 },
 "nbformat": 4,
 "nbformat_minor": 2
}
