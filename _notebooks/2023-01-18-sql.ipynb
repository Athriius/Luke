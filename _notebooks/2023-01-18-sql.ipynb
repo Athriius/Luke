{
 "cells": [
  {
   "cell_type": "markdown",
   "metadata": {},
   "source": []
  }
 ],
 "metadata": {
  "kernelspec": {
   "display_name": "Python 3",
   "language": "python",
   "name": "python3"
  },
  "language_info": {
   "codemirror_mode": {
    "name": "ipython",
    "version": 3
   },
   "file_extension": ".py",
   "mimetype": "text/x-python",
   "name": "python",
   "nbconvert_exporter": "python",
   "pygments_lexer": "ipython3",
   "version": "3.8.5"
  },
  "orig_nbformat": 4,
  "vscode": {
   "interpreter": {
    "hash": "fa85844c60a4bc7a0030ca459fc516772093c99cfc4a6a8434355f4140c3aa0a"
   }
  }
 },
 "nbformat": 4,
 "nbformat_minor": 2
}
