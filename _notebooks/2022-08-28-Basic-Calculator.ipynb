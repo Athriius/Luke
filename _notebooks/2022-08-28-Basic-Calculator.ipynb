{
 "cells": [
  {
   "cell_type": "markdown",
   "metadata": {},
   "source": [
    "# Basic Calculator\n",
    "> Add, Subtract, Multiply or Divide.\n",
    "\n",
    "- toc: true \n",
    "- badges: true\n",
    "- comments: true\n",
    "- categories: [jupyter, Week 1]"
   ]
  },
  {
   "cell_type": "code",
   "execution_count": 1,
   "metadata": {},
   "outputs": [
    {
     "name": "stdout",
     "output_type": "stream",
     "text": [
      "-2.0\n"
     ]
    }
   ],
   "source": [
    "num1 = float(input(\"Enter first number: \"))\n",
    "op = input(\"Enter operator: \")\n",
    "num2 = float(input(\"Enter second number: \"))\n",
    "\n",
    "if op == \"+\":\n",
    "    print(num1 + num2)\n",
    "elif op == \"-\":\n",
    "    print(num1 - num2)\n",
    "elif op == \"/\":\n",
    "    print(num1 / num2)\n",
    "elif op == \"*\":\n",
    "    print(num1 * num2)\n",
    "else:\n",
    "    print(\"Invalid operator.\")"
   ]
  }
 ],
 "metadata": {
  "kernelspec": {
   "display_name": "Python 3.8.5 32-bit",
   "language": "python",
   "name": "python3"
  },
  "language_info": {
   "codemirror_mode": {
    "name": "ipython",
    "version": 3
   },
   "file_extension": ".py",
   "mimetype": "text/x-python",
   "name": "python",
   "nbconvert_exporter": "python",
   "pygments_lexer": "ipython3",
   "version": "3.8.5"
  },
  "orig_nbformat": 4,
  "vscode": {
   "interpreter": {
    "hash": "fa85844c60a4bc7a0030ca459fc516772093c99cfc4a6a8434355f4140c3aa0a"
   }
  }
 },
 "nbformat": 4,
 "nbformat_minor": 2
}
