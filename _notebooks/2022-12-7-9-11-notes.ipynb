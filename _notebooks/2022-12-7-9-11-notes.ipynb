{
 "cells": [
  {
   "cell_type": "markdown",
   "metadata": {},
   "source": [
    "# 9 and 11 Notes\n",
    "> Notes for 9 and 11.\n",
    "\n",
    "- toc: true \n",
    "- badges: true\n",
    "- comments: true\n",
    "- categories: [jupyter, Week 15]"
   ]
  },
  {
   "cell_type": "markdown",
   "metadata": {},
   "source": [
    "# Lesson 1 | Defining Algorithms\n",
    "What is an algorithm? An algorithm is a process or set of rules to be followed through CODE. There are set limitations, this is what makes algorithms fun, you can your imagination and create whatever you wan with your own instructions!\n",
    "\n",
    "Algorithms can be written in different ways and still accomplish the same tasks\n",
    "\n",
    "Algorithms that appear similar can yield different side effects or results.\n",
    "\n",
    "Some conditional statements can be written as the same as Boolean expressions (VICE VERSA)\n",
    "\n",
    "Different algorithms can be developed or use to solve the same problem.\n",
    "\n",
    "# Example 1 | What happens if we test the algorithm with different outputs?"
   ]
  },
  {
   "cell_type": "code",
   "execution_count": 1,
   "metadata": {},
   "outputs": [
    {
     "name": "stdout",
     "output_type": "stream",
     "text": [
      "It is too cold outside!\n"
     ]
    }
   ],
   "source": [
    "temp = int(input(\"Select a temperature from 0 to 99 degrees F\"))\n",
    "if (temp >= 90):\n",
    "    print(\"It's too hot outside!\")\n",
    "else:\n",
    "    if (temp >= 65):\n",
    "        print(\"Sure I will play outside!\")\n",
    "    else: \n",
    "        print(\"It is too cold outside!\")\n",
    "# Input 54 and then 95, what do you notice?"
   ]
  },
  {
   "cell_type": "code",
   "execution_count": 2,
   "metadata": {},
   "outputs": [
    {
     "name": "stdout",
     "output_type": "stream",
     "text": [
      "It is too cold outside!\n"
     ]
    }
   ],
   "source": [
    "temp = int(input(\"Select a temperature from 0 to 99 degrees F\"))\n",
    "if (temp >= 90):\n",
    "    print(\"It's too hot outside!\")\n",
    "if (temp >= 65):\n",
    "    print(\"Sure I will play outside!\")\n",
    "if (temp < 65):\n",
    "    print(\"It is too cold outside!\")\n",
    "    # Input 54 and then Input 95, what do you notice?"
   ]
  },
  {
   "cell_type": "markdown",
   "metadata": {},
   "source": [
    "# Examples"
   ]
  },
  {
   "cell_type": "code",
   "execution_count": 3,
   "metadata": {},
   "outputs": [
    {
     "name": "stdout",
     "output_type": "stream",
     "text": [
      "25\n"
     ]
    }
   ],
   "source": [
    "sum = 1\n",
    "counter = 3\n",
    "#iteration\n",
    "var = 0 \n",
    "while (var < 4): #while the var is <= 4, it executes those commands, once it exceeds it hits the else command\n",
    "    sum = sum + counter\n",
    "    counter = counter + 2\n",
    "    var = var + 1\n",
    "    # now go through the whole thing 4 times, this is an iteration, a vital part of algorithms.\n",
    "else:\n",
    "    print(sum)"
   ]
  },
  {
   "cell_type": "markdown",
   "metadata": {},
   "source": [
    "# Example 2"
   ]
  },
  {
   "cell_type": "code",
   "execution_count": 4,
   "metadata": {},
   "outputs": [
    {
     "name": "stdout",
     "output_type": "stream",
     "text": [
      "25\n"
     ]
    }
   ],
   "source": [
    "sum = 0\n",
    "counter = 9\n",
    "#iteration\n",
    "while (counter >= 1): \n",
    "    sum = sum + counter\n",
    "    counter = counter - 2\n",
    "print(sum)"
   ]
  },
  {
   "cell_type": "markdown",
   "metadata": {},
   "source": [
    "Rules\n",
    "step/rule 1: start with any positive integer\n",
    "step/rule 2: if the preceding term is even; divide by 2\n",
    "step/rule 3: if the preceding term is odd; multiply by 3 and add 1\n",
    "step/rule 4: repeat steps until you arrive at 1\n",
    "fact: the sequence should ALWAYS end up at 1 if repeated."
   ]
  },
  {
   "cell_type": "code",
   "execution_count": null,
   "metadata": {},
   "outputs": [],
   "source": [
    "print(\"choose value for x\")\n",
    "\n",
    "varx=int(input(\"Enter any positive Integer\"))\n",
    "\n",
    "if (varx %2 == 0):\n",
    "    print(\"the number is even\")\n",
    "\n",
    "else:\n",
    "    print(\"the number is odd\")\n",
    "# Run this cell to see how it works"
   ]
  },
  {
   "cell_type": "markdown",
   "metadata": {},
   "source": [
    "\n",
    "Step 1"
   ]
  },
  {
   "cell_type": "code",
   "execution_count": null,
   "metadata": {},
   "outputs": [],
   "source": [
    "print(\"choose value for x\")\n",
    "\n",
    "varx=int(input(\"Enter any positive Integer\"))\n",
    "\n",
    "if (varx %2 == 0):\n",
    "     varx == varx/2       # Change print to the function\n",
    "\n",
    "else:\n",
    "    varx == varx * 3 + 1      # Change print to the function\n",
    "\n",
    "print(varx)"
   ]
  },
  {
   "cell_type": "markdown",
   "metadata": {},
   "source": [
    "Step 2"
   ]
  },
  {
   "cell_type": "code",
   "execution_count": null,
   "metadata": {},
   "outputs": [],
   "source": [
    "print(\"choose value for x\")\n",
    "\n",
    "varx=int(input(\"Enter any positive Integer\"))\n",
    "\n",
    "while varx != 1:\n",
    "\n",
    "    if (varx %2 == 0):\n",
    "        varx = varx/2       # Change print to the function\n",
    "\n",
    "    else:\n",
    "        varx = varx * 3 + 1      # Change print to the function\n",
    "\n",
    "print(varx)"
   ]
  },
  {
   "cell_type": "markdown",
   "metadata": {},
   "source": [
    "Step 3"
   ]
  },
  {
   "cell_type": "code",
   "execution_count": null,
   "metadata": {},
   "outputs": [],
   "source": [
    "print(\"choose value for x\")\n",
    "\n",
    "varx=int(input(\"Enter any positive Integer\"))\n",
    "\n",
    "print(varx)\n",
    "while varx != 1:\n",
    "\n",
    "    if (varx %2 == 0):\n",
    "        varx = varx/2       \n",
    "        print(varx)               # add Display\n",
    "    else:\n",
    "        varx = varx * 3 + 1      \n",
    "        print(varx)               # add Display\n",
    "print(varx)                       # Final # Should be 1 every time"
   ]
  },
  {
   "cell_type": "markdown",
   "metadata": {},
   "source": [
    "# Binary Search\n",
    "\n",
    "Goals/Objectives:\n",
    "\n",
    "* detirmine number of iterations required to find vlue in data set.\n",
    "* explain requirements for binary search\n",
    "\n",
    "What is Binary Search?\n",
    "\n",
    "* Binary search is a search algorithm that finds the position of a target value within a sorted array. Binary search compares the target value to the middle element of the array.\n",
    "* An algorithm for iterating to find a value inside a data set\n",
    "\n",
    "About Binary Search:\n",
    "\n",
    "* Binary Search Algorithm starts in the middle of a data set of numbers and eliminates half the data. This process reapeats until the desired value is found or until all elements have been eliminated.\n",
    "* In order to use binary search effectivly and properly, data must be stored in order\n",
    "\n",
    "COLLEGE BOARD INDEX STARTS AT 1 NOT 0\n",
    "\n",
    "Think about how you would you would try to find a certain number in this set.\n",
    "\n"
   ]
  },
  {
   "cell_type": "markdown",
   "metadata": {},
   "source": [
    "![]({{ site.baseurl }}/images/code1.png)\n"
   ]
  },
  {
   "cell_type": "markdown",
   "metadata": {},
   "source": [
    "Heres an easy way to put it:\n",
    "\n",
    "* binary search fidns the desired element by continuously chopping the search area in half\n",
    "* say the element you are looking for is 'f'\n",
    "[a b c d e f g h]\n",
    "\n",
    "* We would start in the middle at element 'd'\n",
    "* becuase our target is greater than d we will eliminate everything left of 'd' including 'd' (chopping it in half)\n",
    "\n",
    "[e f g h] is what now remains\n",
    "\n",
    "* again we would 'chop in half'\n",
    "* say we iterate through 'g' and 'h', our desired element is still not found so we would eliminate 'g; and 'h' and continue the process\n",
    "[e f]\n",
    "\n",
    "now we are down to 2 elements\n",
    "'chopping in half' will give us our desired element\n",
    "[f]"
   ]
  },
  {
   "cell_type": "code",
   "execution_count": 1,
   "metadata": {},
   "outputs": [
    {
     "name": "stdout",
     "output_type": "stream",
     "text": [
      "Element is present at index 1\n"
     ]
    }
   ],
   "source": [
    "def BinarySearch(array, x, low, high):\n",
    "\n",
    "    # Repeat until the pointers low and high meet each other \n",
    "    while low <= high:\n",
    "\n",
    "        mid = low + (high - low)//2 # find the middle (taking the higest index number plus the lowest and divided by two)\n",
    "\n",
    "        if array[mid] == x: # if desired number is the middle is found return desired number (middle number) \n",
    "            return mid\n",
    "\n",
    "        elif array[mid] < x: \n",
    "            low = mid + 1\n",
    "\n",
    "        else:\n",
    "            high = mid - 1\n",
    "\n",
    "    return -1\n",
    "\n",
    "\n",
    "array = [3, 4, 5, 6, 7, 8, 9]\n",
    "x = 4\n",
    "\n",
    "result = BinarySearch(array, x, 0, len(array)-1)\n",
    "\n",
    "if result != -1:\n",
    "    print(\"Element is present at index \" + str(result))\n",
    "else:\n",
    "    print(\"Not found\")"
   ]
  },
  {
   "cell_type": "markdown",
   "metadata": {},
   "source": [
    "# HW"
   ]
  },
  {
   "cell_type": "code",
   "execution_count": 67,
   "metadata": {},
   "outputs": [
    {
     "name": "stdout",
     "output_type": "stream",
     "text": [
      "You got: 8 12 1\n",
      "Your score is 12\n"
     ]
    }
   ],
   "source": [
    "import random\n",
    "\n",
    "num1 = random.randint(1,20)\n",
    "\n",
    "num2 = random.randint(1,20)\n",
    "\n",
    "num3 = random.randint(1,20)\n",
    "\n",
    "\n",
    "def NumberGame():\n",
    "    print(\"You got:\", num1, num2, num3)\n",
    "    if num1 > num2 and num1 > num3: \n",
    "        print(\"Your score is\", num1)\n",
    "    else:\n",
    "        if num2 > num3:\n",
    "            print(\"Your score is\", num2)\n",
    "        else:\n",
    "            print(\"Your score is\", num3)\n",
    "\n",
    "NumberGame()\n",
    "\n"
   ]
  },
  {
   "cell_type": "markdown",
   "metadata": {},
   "source": [
    "Here is a [link](https://docs.google.com/drawings/d/1urVXOO4rRYHap59f8WCV0qB3623bzSklwX66b8L9-EI/edit) to my google drawing of the algorithm. Thank you for grading."
   ]
  }
 ],
 "metadata": {
  "kernelspec": {
   "display_name": "Python 3.8.5 32-bit",
   "language": "python",
   "name": "python3"
  },
  "language_info": {
   "codemirror_mode": {
    "name": "ipython",
    "version": 3
   },
   "file_extension": ".py",
   "mimetype": "text/x-python",
   "name": "python",
   "nbconvert_exporter": "python",
   "pygments_lexer": "ipython3",
   "version": "3.8.5"
  },
  "orig_nbformat": 4,
  "vscode": {
   "interpreter": {
    "hash": "fa85844c60a4bc7a0030ca459fc516772093c99cfc4a6a8434355f4140c3aa0a"
   }
  }
 },
 "nbformat": 4,
 "nbformat_minor": 2
}
