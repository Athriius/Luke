{
 "cells": [
  {
   "cell_type": "markdown",
   "metadata": {},
   "source": [
    "# Homework for Unit 1-2\n",
    "> Here is the homework assignment for Unit 1-2.\n",
    "\n",
    "- toc: true \n",
    "- badges: true\n",
    "- comments: true\n",
    "- categories: [jupyter, Week 14]"
   ]
  },
  {
   "cell_type": "markdown",
   "metadata": {},
   "source": [
    "# Homework Code\n",
    "I was getting some error with the file that had my notes for this unit, so I just have the code for the hacks here."
   ]
  },
  {
   "cell_type": "code",
   "execution_count": null,
   "metadata": {},
   "outputs": [],
   "source": [
    "quesCount = 0\n",
    "score = 0\n",
    "\n",
    "# Use a dictionary for the questions\n",
    "quesList = [\"2+2\", \"2*2\", \"2*4\", \"2/2\"]\n",
    "\n",
    "# Use a dictionary for the correct solutions\n",
    "soluList = [\"4\", \"4\", \"8\", \"1\"]\n",
    "\n",
    "quesAmount= len(quesList)\n",
    "\n",
    "if quesCount <= quesAmount:\n",
    "    print(quesList[quesCount] + \"\\n\")\n",
    "    guess = input()\n",
    "    if (guess == soluList[quesCount]):\n",
    "        score+=1\n",
    "        print(\"Correct! Score: \")\n",
    "    else: \n",
    "        print(\"Incorrect! The correct answer was \" + soluList[quesCount] + \"\\n\")\n",
    "    quesCount += 1\n",
    "\n",
    "\n",
    "\n",
    "\n",
    "print(\"Final score: \" + str(score))"
   ]
  }
 ],
 "metadata": {
  "kernelspec": {
   "display_name": "Python 3.8.5 32-bit",
   "language": "python",
   "name": "python3"
  },
  "language_info": {
   "name": "python",
   "version": "3.8.5"
  },
  "orig_nbformat": 4,
  "vscode": {
   "interpreter": {
    "hash": "fa85844c60a4bc7a0030ca459fc516772093c99cfc4a6a8434355f4140c3aa0a"
   }
  }
 },
 "nbformat": 4,
 "nbformat_minor": 2
}
