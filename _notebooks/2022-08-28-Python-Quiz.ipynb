{
 "cells": [
  {
   "cell_type": "markdown",
   "metadata": {},
   "source": [
    "# First Python Quiz\n",
    "> A quiz by Luke Angelini\n",
    "\n",
    "- toc: true \n",
    "- badges: true\n",
    "- comments: true\n",
    "- categories: [jupyter]"
   ]
  },
  {
   "cell_type": "code",
   "execution_count": 11,
   "metadata": {},
   "outputs": [
    {
     "name": "stdout",
     "output_type": "stream",
     "text": [
      "Write the letter for the correct answer below.\n",
      "You got0/4correct.\n"
     ]
    }
   ],
   "source": [
    "print (\"Write the letter for the correct answer below.\")\n",
    "\n",
    "class Question:\n",
    "     def __init__(self, prompt, answer):\n",
    "          self.prompt = prompt\n",
    "          self.answer = answer\n",
    " \n",
    "question_prompts = [\n",
    "     \"What function is used to output text? \\n(a)print \\n(b)write \\n(c)say\",\n",
    "     \"What keyword is used to define a function? \\n(a)define \\n(b)function \\n(c)def\",\n",
    "     \"What command allows the use of previously developed functions? \\n(a)recall \\n(b)import \\n(c)function\",\n",
    "     \"What function is used to collect user input? \\n(a)input \\n(b)import \\n(c)collect\",\n",
    "]\n",
    " \n",
    "questions = [\n",
    "     Question(question_prompts[0], \"a\"),\n",
    "     Question(question_prompts[1], \"c\"),\n",
    "     Question(question_prompts[2], \"b\"),\n",
    "     Question(question_prompts[3], \"a\"),\n",
    "]\n",
    "\n",
    "def run_quiz(questions):\n",
    "     score = 0\n",
    "     for question in questions:\n",
    "          answer = input(question.prompt)\n",
    "          if answer == question.answer:\n",
    "               score += 1\n",
    "     print(\"You got\" + str(score) + \"/\" + str(len(questions)) + \"correct.\")\n",
    " \n",
    "run_quiz(questions)"
   ]
  },
  {
   "cell_type": "code",
   "execution_count": 14,
   "metadata": {},
   "outputs": [],
   "source": [
    "new_quiz = []\n",
    "\n",
    "new_quiz.append({\n",
    "    \"What function is used to output text?\":\"print\",\n",
    "    \"What keyword is used to define a function?\":\"def\",\n",
    "    \"What command allows the use of previously developed functions?\":\"import\",\n",
    "    \"What function is used to collect user input?\":\"input\"\n",
    "})"
   ]
  }
 ],
 "metadata": {
  "kernelspec": {
   "display_name": "Python 3.8.10 64-bit",
   "language": "python",
   "name": "python3"
  },
  "language_info": {
   "codemirror_mode": {
    "name": "ipython",
    "version": 3
   },
   "file_extension": ".py",
   "mimetype": "text/x-python",
   "name": "python",
   "nbconvert_exporter": "python",
   "pygments_lexer": "ipython3",
   "version": "3.8.10"
  },
  "orig_nbformat": 4,
  "vscode": {
   "interpreter": {
    "hash": "916dbcbb3f70747c44a77c7bcd40155683ae19c65e1c03b4aa3499c5328201f1"
   }
  }
 },
 "nbformat": 4,
 "nbformat_minor": 2
}
