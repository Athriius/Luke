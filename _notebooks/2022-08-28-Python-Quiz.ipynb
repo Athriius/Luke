{
 "cells": [
  {
   "cell_type": "markdown",
   "metadata": {},
   "source": [
    "# First Python Quiz\n",
    "> A quiz by Luke Angelini\n",
    "\n",
    "- toc: true \n",
    "- badges: true\n",
    "- comments: true\n",
    "- categories: [jupyter, Week 1]"
   ]
  },
  {
   "cell_type": "code",
   "execution_count": 11,
   "metadata": {},
   "outputs": [
    {
     "name": "stdout",
     "output_type": "stream",
     "text": [
      "Write the letter for the correct answer below.\n",
      "You got0/4correct.\n"
     ]
    }
   ],
   "source": [
    "print (\"Write the letter for the correct answer below.\")\n",
    "\n",
    "class Question:\n",
    "     def __init__(self, prompt, answer):\n",
    "          self.prompt = prompt\n",
    "          self.answer = answer\n",
    " \n",
    "question_prompts = [\n",
    "     \"What function is used to output text? \\n(a)print \\n(b)write \\n(c)say\",\n",
    "     \"What keyword is used to define a function? \\n(a)define \\n(b)function \\n(c)def\",\n",
    "     \"What command allows the use of previously developed functions? \\n(a)recall \\n(b)import \\n(c)function\",\n",
    "     \"What function is used to collect user input? \\n(a)input \\n(b)import \\n(c)collect\",\n",
    "]\n",
    " \n",
    "questions = [\n",
    "     Question(question_prompts[0], \"a\"),\n",
    "     Question(question_prompts[1], \"c\"),\n",
    "     Question(question_prompts[2], \"b\"),\n",
    "     Question(question_prompts[3], \"a\"),\n",
    "]\n",
    "\n",
    "def run_quiz(questions):\n",
    "     score = 0\n",
    "     for question in questions:\n",
    "          answer = input(question.prompt)\n",
    "          if answer == question.answer:\n",
    "               score += 1\n",
    "     print(\"You got\" + str(score) + \"/\" + str(len(questions)) + \"correct.\")\n",
    " \n",
    "run_quiz(questions)"
   ]
  },
  {
   "cell_type": "code",
   "execution_count": 12,
   "metadata": {},
   "outputs": [
    {
     "ename": "AttributeError",
     "evalue": "'list' object has no attribute 'keys'",
     "output_type": "error",
     "traceback": [
      "\u001b[0;31m---------------------------------------------------------------------------\u001b[0m",
      "\u001b[0;31mAttributeError\u001b[0m                            Traceback (most recent call last)",
      "\u001b[1;32m/home/luke_angelini/Luke1/_notebooks/2022-08-28-Python-Quiz.ipynb Cell 3\u001b[0m in \u001b[0;36m<cell line: 10>\u001b[0;34m()\u001b[0m\n\u001b[1;32m      <a href='vscode-notebook-cell://wsl%2Bubuntu/home/luke_angelini/Luke1/_notebooks/2022-08-28-Python-Quiz.ipynb#W2sdnNjb2RlLXJlbW90ZQ%3D%3D?line=0'>1</a>\u001b[0m new_quiz \u001b[39m=\u001b[39m []\n\u001b[1;32m      <a href='vscode-notebook-cell://wsl%2Bubuntu/home/luke_angelini/Luke1/_notebooks/2022-08-28-Python-Quiz.ipynb#W2sdnNjb2RlLXJlbW90ZQ%3D%3D?line=2'>3</a>\u001b[0m new_quiz\u001b[39m.\u001b[39mappend({\n\u001b[1;32m      <a href='vscode-notebook-cell://wsl%2Bubuntu/home/luke_angelini/Luke1/_notebooks/2022-08-28-Python-Quiz.ipynb#W2sdnNjb2RlLXJlbW90ZQ%3D%3D?line=3'>4</a>\u001b[0m     \u001b[39m\"\u001b[39m\u001b[39mWhat function is used to output text?\u001b[39m\u001b[39m\"\u001b[39m:\u001b[39m\"\u001b[39m\u001b[39mprint\u001b[39m\u001b[39m\"\u001b[39m,\n\u001b[1;32m      <a href='vscode-notebook-cell://wsl%2Bubuntu/home/luke_angelini/Luke1/_notebooks/2022-08-28-Python-Quiz.ipynb#W2sdnNjb2RlLXJlbW90ZQ%3D%3D?line=4'>5</a>\u001b[0m     \u001b[39m\"\u001b[39m\u001b[39mWhat keyword is used to define a function?\u001b[39m\u001b[39m\"\u001b[39m:\u001b[39m\"\u001b[39m\u001b[39mdef\u001b[39m\u001b[39m\"\u001b[39m,\n\u001b[1;32m      <a href='vscode-notebook-cell://wsl%2Bubuntu/home/luke_angelini/Luke1/_notebooks/2022-08-28-Python-Quiz.ipynb#W2sdnNjb2RlLXJlbW90ZQ%3D%3D?line=5'>6</a>\u001b[0m     \u001b[39m\"\u001b[39m\u001b[39mWhat command allows the use of previously developed functions?\u001b[39m\u001b[39m\"\u001b[39m:\u001b[39m\"\u001b[39m\u001b[39mimport\u001b[39m\u001b[39m\"\u001b[39m,\n\u001b[1;32m      <a href='vscode-notebook-cell://wsl%2Bubuntu/home/luke_angelini/Luke1/_notebooks/2022-08-28-Python-Quiz.ipynb#W2sdnNjb2RlLXJlbW90ZQ%3D%3D?line=6'>7</a>\u001b[0m     \u001b[39m\"\u001b[39m\u001b[39mWhat function is used to collect user input?\u001b[39m\u001b[39m\"\u001b[39m:\u001b[39m\"\u001b[39m\u001b[39minput\u001b[39m\u001b[39m\"\u001b[39m\n\u001b[1;32m      <a href='vscode-notebook-cell://wsl%2Bubuntu/home/luke_angelini/Luke1/_notebooks/2022-08-28-Python-Quiz.ipynb#W2sdnNjb2RlLXJlbW90ZQ%3D%3D?line=7'>8</a>\u001b[0m })\n\u001b[0;32m---> <a href='vscode-notebook-cell://wsl%2Bubuntu/home/luke_angelini/Luke1/_notebooks/2022-08-28-Python-Quiz.ipynb#W2sdnNjb2RlLXJlbW90ZQ%3D%3D?line=9'>10</a>\u001b[0m x \u001b[39m=\u001b[39m new_quiz\u001b[39m.\u001b[39;49mkeys()\n",
      "\u001b[0;31mAttributeError\u001b[0m: 'list' object has no attribute 'keys'"
     ]
    }
   ],
   "source": [
    "new_quiz = []\n",
    "\n",
    "new_quiz.append({\n",
    "    \"What function is used to output text?\":\"print\",\n",
    "    \"What keyword is used to define a function?\":\"def\",\n",
    "    \"What command allows the use of previously developed functions?\":\"import\",\n",
    "    \"What function is used to collect user input?\":\"input\"\n",
    "})\n"
   ]
  }
 ],
 "metadata": {
  "kernelspec": {
   "display_name": "Python 3.8.10 64-bit",
   "language": "python",
   "name": "python3"
  },
  "language_info": {
   "codemirror_mode": {
    "name": "ipython",
    "version": 3
   },
   "file_extension": ".py",
   "mimetype": "text/x-python",
   "name": "python",
   "nbconvert_exporter": "python",
   "pygments_lexer": "ipython3",
   "version": "3.8.10"
  },
  "orig_nbformat": 4,
  "vscode": {
   "interpreter": {
    "hash": "916dbcbb3f70747c44a77c7bcd40155683ae19c65e1c03b4aa3499c5328201f1"
   }
  }
 },
 "nbformat": 4,
 "nbformat_minor": 2
}
