{
 "cells": [
  {
   "attachments": {},
   "cell_type": "markdown",
   "metadata": {},
   "source": [
    "# First Python Quiz\n",
    "> A quiz by Luke Angelini\n",
    "\n",
    "- toc: true \n",
    "- badges: true\n",
    "- comments: true\n",
    "- categories: [jupyter, week-01]"
   ]
  },
  {
   "cell_type": "code",
   "execution_count": 2,
   "metadata": {},
   "outputs": [
    {
     "name": "stdout",
     "output_type": "stream",
     "text": [
      "Write the letter for the correct answer below.\n",
      "You got2/4correct.\n"
     ]
    }
   ],
   "source": [
    "print (\"Write the letter for the correct answer below.\")\n",
    "\n",
    "class Question:\n",
    "     def __init__(self, prompt, answer):\n",
    "          self.prompt = prompt\n",
    "          self.answer = answer\n",
    " \n",
    "question_prompts = [\n",
    "     \"What function is used to output text? \\n(a)print \\n(b)write \\n(c)say\",\n",
    "     \"What keyword is used to define a function? \\n(a)define \\n(b)function \\n(c)def\",\n",
    "     \"What command allows the use of previously developed functions? \\n(a)recall \\n(b)import \\n(c)function\",\n",
    "     \"What function is used to collect user input? \\n(a)input \\n(b)import \\n(c)collect\",\n",
    "]\n",
    " \n",
    "questions = [\n",
    "     Question(question_prompts[0], \"a\"),\n",
    "     Question(question_prompts[1], \"c\"),\n",
    "     Question(question_prompts[2], \"b\"),\n",
    "     Question(question_prompts[3], \"a\"),\n",
    "]\n",
    "\n",
    "def run_quiz(questions):\n",
    "     score = 0\n",
    "     for question in questions:\n",
    "          answer = input(question.prompt)\n",
    "          if answer == question.answer:\n",
    "               score += 1\n",
    "     print(\"You got\" + str(score) + \"/\" + str(len(questions)) + \"correct.\")\n",
    " \n",
    "run_quiz(questions)"
   ]
  },
  {
   "cell_type": "code",
   "execution_count": 1,
   "metadata": {},
   "outputs": [],
   "source": [
    "new_quiz = []\n",
    "\n",
    "new_quiz.append({\n",
    "    \"What function is used to output text?\":\"print\",\n",
    "    \"What keyword is used to define a function?\":\"def\",\n",
    "    \"What command allows the use of previously developed functions?\":\"import\",\n",
    "    \"What function is used to collect user input?\":\"input\"\n",
    "})\n"
   ]
  }
 ],
 "metadata": {
  "kernelspec": {
   "display_name": "Python 3.8.5 32-bit",
   "language": "python",
   "name": "python3"
  },
  "language_info": {
   "codemirror_mode": {
    "name": "ipython",
    "version": 3
   },
   "file_extension": ".py",
   "mimetype": "text/x-python",
   "name": "python",
   "nbconvert_exporter": "python",
   "pygments_lexer": "ipython3",
   "version": "3.8.5 (tags/v3.8.5:580fbb0, Jul 20 2020, 15:43:08) [MSC v.1926 32 bit (Intel)]"
  },
  "orig_nbformat": 4,
  "vscode": {
   "interpreter": {
    "hash": "fa85844c60a4bc7a0030ca459fc516772093c99cfc4a6a8434355f4140c3aa0a"
   }
  }
 },
 "nbformat": 4,
 "nbformat_minor": 2
}
