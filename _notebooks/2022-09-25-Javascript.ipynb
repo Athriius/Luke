{
 "cells": [
  {
   "cell_type": "markdown",
   "metadata": {},
   "source": [
    "# Javascript\n",
    "> Different uses of javascript.\n",
    "\n",
    "- toc: true \n",
    "- badges: true\n",
    "- comments: true\n",
    "- categories: [jupyter, Week 5]"
   ]
  },
  {
   "cell_type": "code",
   "execution_count": 4,
   "metadata": {},
   "outputs": [
    {
     "name": "stdout",
     "output_type": "stream",
     "text": [
      "Welcome! Today we'll be practicing javascript basics.\n"
     ]
    }
   ],
   "source": [
    "var msg = \"Welcome! Today we'll be practicing javascript basics.\";\n",
    "console.log(msg);"
   ]
  },
  {
   "cell_type": "markdown",
   "metadata": {},
   "source": [
    "# Javascript Arithmetic\n",
    "\n",
    "Here is a basic function that adds two numbers"
   ]
  },
  {
   "cell_type": "code",
   "execution_count": 5,
   "metadata": {},
   "outputs": [
    {
     "data": {
      "text/plain": [
       "100"
      ]
     },
     "execution_count": 5,
     "metadata": {},
     "output_type": "execute_result"
    }
   ],
   "source": [
    "function adding(x, y) {\n",
    "    return x + y;\n",
    "  }\n",
    "  adding(10,90)"
   ]
  },
  {
   "cell_type": "markdown",
   "metadata": {},
   "source": [
    "# Function With Parameter\n",
    "\n",
    "Here is a basic function with a parameter in it."
   ]
  },
  {
   "cell_type": "code",
   "execution_count": 6,
   "metadata": {},
   "outputs": [
    {
     "name": "stdout",
     "output_type": "stream",
     "text": [
      "99 is less than or equal to 100\n"
     ]
    }
   ],
   "source": [
    "function numbercheck(x){\n",
    "    if (x > 100 ) {\n",
    "        console.log(x + \" is greater than 100\");\n",
    "    }  else {\n",
    "       console.log(x + \" is less than or equal to 100\");\n",
    "    }\n",
    "    \n",
    "    }\n",
    "    numbercheck(99)"
   ]
  }
 ],
 "metadata": {
  "kernelspec": {
   "display_name": "JavaScript (Node.js)",
   "language": "javascript",
   "name": "javascript"
  },
  "language_info": {
   "file_extension": ".js",
   "mimetype": "application/javascript",
   "name": "javascript",
   "version": "6.11.2"
  },
  "orig_nbformat": 4
 },
 "nbformat": 4,
 "nbformat_minor": 2
}
