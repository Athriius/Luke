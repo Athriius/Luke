{
 "cells": [
  {
   "cell_type": "markdown",
   "metadata": {},
   "source": [
    "# Dictionaries and Lists\n",
    "> Creating code and functions using lists and dictionaries.\n",
    "\n",
    "- toc: true \n",
    "- badges: true\n",
    "- comments: true\n",
    "- categories: [jupyter, Week 2]"
   ]
  },
  {
   "cell_type": "markdown",
   "metadata": {},
   "source": [
    "# Info Db\n",
    "\n",
    "Added some stuff to the Info Db dictionary."
   ]
  },
  {
   "cell_type": "code",
   "execution_count": 2,
   "metadata": {},
   "outputs": [
    {
     "name": "stdout",
     "output_type": "stream",
     "text": [
      "[{'FirstName': 'John', 'LastName': 'Mortensen', 'DOB': 'October 21', 'Residence': 'San Diego', 'Email': 'jmortensen@powayusd.com', 'Owns_Cars': ['2015-Fusion', '2011-Ranger', '2003-Excursion', '1997-F350', '1969-Cadillac']}, {'FirstName': 'Sunny', 'LastName': 'Naidu', 'DOB': 'August 2', 'Residence': 'Temecula', 'Email': 'snaidu@powayusd.com', 'Owns_Cars': ['4Runner']}, {'FirstName': 'Luke', 'LastName': 'Angelini', 'DOB': 'July 29', 'Residence': '4S Ranch', 'Email': 'ltangelini@gmail.com', 'Owns_Cars': ['None']}, {'FirstName': 'John', 'LastName': 'Smith', 'DOB': 'July 4 ', 'Residence': 'New York', 'Email': 'Johnistheman@gmail.com', 'Owns_Cars': 'Ford F150'}]\n"
     ]
    }
   ],
   "source": [
    "# Defines an empty List called InfoDb\n",
    "InfoDb = []\n",
    "\n",
    "# InfoDB is a data structure with expected Keys and Values\n",
    "\n",
    "# Append to List a Dictionary of key/values related to a person and cars\n",
    "InfoDb.append({\n",
    "    \"FirstName\": \"John\",\n",
    "    \"LastName\": \"Mortensen\",\n",
    "    \"DOB\": \"October 21\",\n",
    "    \"Residence\": \"San Diego\",\n",
    "    \"Email\": \"jmortensen@powayusd.com\",\n",
    "    \"Owns_Cars\": [\"2015-Fusion\", \"2011-Ranger\", \"2003-Excursion\", \"1997-F350\", \"1969-Cadillac\"]\n",
    "})\n",
    "\n",
    "# Append to List a 2nd Dictionary of key/values\n",
    "InfoDb.append({\n",
    "    \"FirstName\": \"Sunny\",\n",
    "    \"LastName\": \"Naidu\",\n",
    "    \"DOB\": \"August 2\",\n",
    "    \"Residence\": \"Temecula\",\n",
    "    \"Email\": \"snaidu@powayusd.com\",\n",
    "    \"Owns_Cars\": [\"4Runner\"]\n",
    "})\n",
    "#added lukes info\n",
    "InfoDb.append({\n",
    "    \"FirstName\": \"Luke\",\n",
    "    \"LastName\": \"Angelini\",\n",
    "    \"DOB\": \"July 29\",\n",
    "    \"Residence\": \"4S Ranch\",\n",
    "    \"Email\": \"ltangelini@gmail.com\",\n",
    "    \"Owns_Cars\": [\"None\"]\n",
    "})\n",
    "\n",
    "# Allow input\n",
    "InfoDb.append({\n",
    "    \"FirstName\": input(),\n",
    "    \"LastName\": input(),\n",
    "    \"DOB\": input(),\n",
    "    \"Residence\": input(),\n",
    "    \"Email\": input(),\n",
    "    \"Owns_Cars\": input()\n",
    "})\n",
    "\n",
    "\n",
    "# Print the data structure\n",
    "print(InfoDb)"
   ]
  },
  {
   "cell_type": "markdown",
   "metadata": {},
   "source": [
    "# For Loops With Index\n",
    "\n",
    "Here is a basic loop using a list of random items and iterating that list through a for loop. Each item is printed as an instance of the variable i in the list below."
   ]
  },
  {
   "cell_type": "code",
   "execution_count": 3,
   "metadata": {},
   "outputs": [
    {
     "name": "stdout",
     "output_type": "stream",
     "text": [
      "German Shephard\n",
      "Labrador Retriever\n",
      "Great Dane\n",
      "Chihuahau\n",
      "Poodle\n",
      "Pitbull\n"
     ]
    }
   ],
   "source": [
    "# Random list of items\n",
    "dog_list = [\"German Shephard\", \"Labrador Retriever\", \"Great Dane\", \"Chihuahau\", \"Poodle\", \"Pitbull\"]\n",
    "\n",
    "# The i variable represents a value in the index dog_list. The for loop prints until the list is complete.\n",
    "for i in dog_list:\n",
    "    print(i)"
   ]
  },
  {
   "cell_type": "markdown",
   "metadata": {},
   "source": [
    "# Reversing Text\n",
    "\n",
    "Data can be output in reverse order. The `[::-1]` code can be applied to a string in order to reverse it."
   ]
  },
  {
   "cell_type": "code",
   "execution_count": 5,
   "metadata": {},
   "outputs": [
    {
     "name": "stdout",
     "output_type": "stream",
     "text": [
      "god\n",
      "dog\n",
      "dog is not spelled the same forwards and backwards\n"
     ]
    }
   ],
   "source": [
    "# The function I have here takes in text from the user, prints the text forwards and backwords then checks to see if it is a palindrome.\n",
    "def backward(p):\n",
    "    print(p[::-1])\n",
    "    print(p)\n",
    "    return p[::-1] == p\n",
    "\n",
    "word = input(\"Enter a word: \")\n",
    "# A word is collected with the input function and then put into the backward function below\n",
    "# .casefold() can be put after a variable to convert it to all lowercase\n",
    "if backward(word.casefold()) is True:\n",
    "# The p[::-1] reverses the text of the input word and the rest of the function prints the word and returns the word as equal to p\n",
    "    print(\"{0} is the same forwards and backwards\".format(word))\n",
    "else:\n",
    "    print(\"{0} is not spelled the same forwards and backwards\".format(word))"
   ]
  },
  {
   "cell_type": "markdown",
   "metadata": {},
   "source": [
    "# Simple While Loop\n",
    "\n",
    "By using a while loop you can iterate through a loop until a certain condition is met. Below is an example created by counting up from 1 to 10."
   ]
  },
  {
   "cell_type": "code",
   "execution_count": 6,
   "metadata": {},
   "outputs": [
    {
     "name": "stdout",
     "output_type": "stream",
     "text": [
      "1\n",
      "2\n",
      "3\n",
      "4\n",
      "5\n",
      "6\n",
      "7\n",
      "8\n",
      "9\n",
      "10\n",
      "Done with loop.\n"
     ]
    }
   ],
   "source": [
    "# This function counts up to 10 using a while loop\n",
    "i = 1\n",
    "while i <=10:\n",
    "    print(i)\n",
    "    i += 1\n",
    "# The i variable represents the number and each time the number is printed the value i is increased.\n",
    "\n",
    "print (\"Done with loop.\")"
   ]
  },
  {
   "cell_type": "markdown",
   "metadata": {},
   "source": [
    "# Adding to Dictionary\n",
    "\n",
    "You can also add new keys to a dictionary. In this example I created a dictionary with colors that each have objects assigned to them."
   ]
  },
  {
   "cell_type": "code",
   "execution_count": 8,
   "metadata": {},
   "outputs": [
    {
     "name": "stdout",
     "output_type": "stream",
     "text": [
      "{'Red': 'Fire', 'Blue': 'Water', 'Green': 'Grass'}\n",
      "{'Red': 'Fire', 'Blue': 'Water', 'Green': 'Grass', 'Yellow': 'Lightning'}\n"
     ]
    }
   ],
   "source": [
    "New_Dict = {\n",
    "    \"Red\": \"Fire\",\n",
    "    \"Blue\": \"Water\",\n",
    "    \"Green\": \"Grass\"\n",
    "}\n",
    "print(New_Dict)\n",
    "\n",
    "# A New key can be added to the dictionary\n",
    "New_Dict[\"Yellow\"] = \"Lightning\"\n",
    "print(New_Dict)\n"
   ]
  },
  {
   "cell_type": "markdown",
   "metadata": {},
   "source": [
    "# New Python Quiz\n",
    "\n",
    "This quiz is created by using a variable, word, which the user inputs into the quiz parameter, prompt, which is then checked for each key in the dictionary to see if it is correct or not."
   ]
  },
  {
   "cell_type": "code",
   "execution_count": 25,
   "metadata": {},
   "outputs": [
    {
     "name": "stdout",
     "output_type": "stream",
     "text": [
      "Question: What function is used to output text?\n",
      "Answer is incorrect\n",
      "Question: What keyword is used to define a function?\n",
      "Answer is incorrect\n",
      "Question: What command allows the use of previously developed functions?\n",
      "Answer is incorrect\n",
      "Question: What function is used to collect user input?\n",
      "Answer is incorrect\n",
      "You got0/4 correct.\n"
     ]
    }
   ],
   "source": [
    "def Python_Quiz(prompt): \n",
    "    global word \n",
    "    print (\"Question: \" + prompt) \n",
    "    word = input()\n",
    "    return word\n",
    "\n",
    "score = 0\n",
    "\n",
    "\n",
    "My_Quiz = [{\n",
    "    \"What function is used to output text?\":\"print\",\n",
    "    \"What keyword is used to define a function?\":\"def\",\n",
    "    \"What command allows the use of previously developed functions?\":\"import\",\n",
    "    \"What function is used to collect user input?\":\"input\"\n",
    "}] #\n",
    "\n",
    "for dict in My_Quiz: \n",
    "    for questions, answers in dict.items(): \n",
    "        Python_Quiz(questions) \n",
    "        if word == answers: \n",
    "            print(\"Correct answer\")\n",
    "            score += 1  \n",
    "        else:\n",
    "            print(\"Incorrect answer\")\n",
    "\n",
    "print(\"You got\" + str(score) + \"/4 correct.\")"
   ]
  }
 ],
 "metadata": {
  "kernelspec": {
   "display_name": "Python 3.8.5 32-bit",
   "language": "python",
   "name": "python3"
  },
  "language_info": {
   "codemirror_mode": {
    "name": "ipython",
    "version": 3
   },
   "file_extension": ".py",
   "mimetype": "text/x-python",
   "name": "python",
   "nbconvert_exporter": "python",
   "pygments_lexer": "ipython3",
   "version": "3.8.5"
  },
  "orig_nbformat": 4,
  "vscode": {
   "interpreter": {
    "hash": "fa85844c60a4bc7a0030ca459fc516772093c99cfc4a6a8434355f4140c3aa0a"
   }
  }
 },
 "nbformat": 4,
 "nbformat_minor": 2
}
