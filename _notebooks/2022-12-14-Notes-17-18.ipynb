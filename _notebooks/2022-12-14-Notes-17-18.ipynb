{
 "cells": [
  {
   "attachments": {},
   "cell_type": "markdown",
   "metadata": {},
   "source": [
    "# 17-18 Notes\n",
    "> Notes for 17 and 18.\n",
    "\n",
    "- toc: true \n",
    "- badges: true\n",
    "- comments: true\n",
    "- categories: [jupyter, Week 16]"
   ]
  },
  {
   "attachments": {},
   "cell_type": "markdown",
   "metadata": {},
   "source": [
    "# 3.17: Algorithm Efficiency\n",
    "Purpose:\n",
    "\n",
    "The purpose of this lesson is to help students understand how to make an efficient program and optimize it and understand its importance to the CSP curriculum.\n",
    "\n",
    "# What is Algorithmic Efficiency?\n",
    "The ability of an algorithm to solve a problem in an efficient way\n",
    "An efficient algorithm solves a problem quickly and with a minimal amoubt of resources, such as time and memory.\n",
    "# How do we determine if an algorithm is efficient or not?\n",
    "One way we can do this is by determining the time complexity of the algorithm.\n",
    "Another way is through space complexity.\n",
    "\n",
    "Traveling Merchant Problem Hacks:\n",
    "* What did you and your team discuss? (record below)\n",
    "\n",
    "An heuristic solution is a logical method that produces a solution that isn't necessarily exact but can be used when normal methods take forever\n",
    "Describe the method used to solve the traveling merchant problem. (record below)\n",
    "\n",
    "3.18: Undecidable Problems\n",
    "Purpose:\n",
    "\n",
    "The purpose of this lesson is to introduce students to the concept of undecidable problems in computer science and to explain why these problems are important.\n",
    "\n",
    "Key vocabulary:\n",
    "\n",
    "Decision problem\n",
    "Decidable problem\n",
    "Undecidable problem\n",
    "\n",
    "Decision Problem\n",
    "A decision problem is a problem in computer science and mathematics that can be solved by a yes-no answer, also known as a binary answer. In other words, a decision problem is a problem for which there are only two possible outputs:\"yes\" or \"no\". There are two types of decision problems that Collegeboard goes over:\n",
    "\n",
    "# Decidable Problems\n",
    "# Undecidable Problems\n",
    "A Decidable is a problem in computer science and mathematics for which an algorithm can be created that can always produce a correct answer or solution. In other words, a decidable problem is a problem for which there exists an algorithm that can be used to determine whether a given input is a valid solution or not.\n",
    "\n",
    "An Undecidable problem is a problem in computer science and mathematics for which it is impossible to create an algorithm that can always provide a correct answer or solution. This means that it is not possible for an algorithm to always determine whether a given input is a valid solution to an undecidable problem.\n",
    "\n",
    "# Decidable Problem Example\n",
    "The procedure below tests to see if a number is divisible by 13. If it is, it returns true. If it isn't, it returns false.\n",
    "\n"
   ]
  },
  {
   "cell_type": "code",
   "execution_count": null,
   "metadata": {},
   "outputs": [],
   "source": [
    "def divideThirteen(number):\n",
    "    if number % 13 == 0:\n",
    "        return True\n",
    "    else:\n",
    "        return False\n",
    "\n",
    "print(divideThirteen(26))\n",
    "print(divideThirteen(30))\n",
    "True\n",
    "False"
   ]
  },
  {
   "attachments": {},
   "cell_type": "markdown",
   "metadata": {},
   "source": [
    "# Undecidable Problems\n",
    "An Example of a Forever Running Code\n",
    "The code keeps adding 1 to the variable number until number is no longer an integer(This is not the python data type \"integer\", it's the integer in number theory). However, there is no end to this code, making the computer run forever. There is no halt to the code."
   ]
  },
  {
   "cell_type": "code",
   "execution_count": 1,
   "metadata": {},
   "outputs": [
    {
     "ename": "KeyboardInterrupt",
     "evalue": "",
     "output_type": "error",
     "traceback": [
      "\u001b[1;31m---------------------------------------------------------------------------\u001b[0m",
      "\u001b[1;31mKeyboardInterrupt\u001b[0m                         Traceback (most recent call last)",
      "\u001b[1;32mc:\\Users\\Luke Angelini\\vscode\\Luke1\\_notebooks\\2022-12-14-Notes-17-18.ipynb Cell 5\u001b[0m in \u001b[0;36m<cell line: 10>\u001b[1;34m()\u001b[0m\n\u001b[0;32m      <a href='vscode-notebook-cell:/c%3A/Users/Luke%20Angelini/vscode/Luke1/_notebooks/2022-12-14-Notes-17-18.ipynb#W5sZmlsZQ%3D%3D?line=8'>9</a>\u001b[0m \u001b[39m# Using while loop to keep searching an a non-integer above 1. Note that the computer runs forever.\u001b[39;00m\n\u001b[0;32m     <a href='vscode-notebook-cell:/c%3A/Users/Luke%20Angelini/vscode/Luke1/_notebooks/2022-12-14-Notes-17-18.ipynb#W5sZmlsZQ%3D%3D?line=9'>10</a>\u001b[0m \u001b[39mwhile\u001b[39;00m i \u001b[39m==\u001b[39m \u001b[39m0\u001b[39m:\n\u001b[1;32m---> <a href='vscode-notebook-cell:/c%3A/Users/Luke%20Angelini/vscode/Luke1/_notebooks/2022-12-14-Notes-17-18.ipynb#W5sZmlsZQ%3D%3D?line=10'>11</a>\u001b[0m     number \u001b[39m+\u001b[39m\u001b[39m=\u001b[39m \u001b[39m1\u001b[39m\n\u001b[0;32m     <a href='vscode-notebook-cell:/c%3A/Users/Luke%20Angelini/vscode/Luke1/_notebooks/2022-12-14-Notes-17-18.ipynb#W5sZmlsZQ%3D%3D?line=11'>12</a>\u001b[0m     \u001b[39mif\u001b[39;00m integerTest(number) \u001b[39m==\u001b[39m \u001b[39mFalse\u001b[39;00m:\n\u001b[0;32m     <a href='vscode-notebook-cell:/c%3A/Users/Luke%20Angelini/vscode/Luke1/_notebooks/2022-12-14-Notes-17-18.ipynb#W5sZmlsZQ%3D%3D?line=12'>13</a>\u001b[0m         i \u001b[39m+\u001b[39m\u001b[39m=\u001b[39m\u001b[39m1\u001b[39m\n",
      "\u001b[1;31mKeyboardInterrupt\u001b[0m: "
     ]
    }
   ],
   "source": [
    "i = 0\n",
    "number = 1\n",
    "def integerTest(n):\n",
    "    # Testing if the number is an integer\n",
    "    if n%1 ==0:\n",
    "        return True\n",
    "    else:\n",
    "        return False\n",
    "# Using while loop to keep searching an a non-integer above 1. Note that the computer runs forever.\n",
    "while i == 0:\n",
    "    number += 1\n",
    "    if integerTest(number) == False:\n",
    "        i +=1\n",
    "        print(\"Done\")"
   ]
  },
  {
   "attachments": {},
   "cell_type": "markdown",
   "metadata": {},
   "source": [
    "# The Halting Problem\n",
    "The halting problem is an example of an undecidable prolem. It states that it is not always possible to correctly determine whether a code halts or runs forever.\n",
    "\n",
    "There is no way to write an algorithm to analyze and determine whether a body of code can run forever or not.\n",
    "\n",
    "# Halting Problem Example:\n",
    "* In order to understand this, suppose that an algorithm was able to analyze whether a code halts or not. Let's call this algorithm HaltChecker.\n",
    "* HaltChecker analyzes the program,program P, and its input,input I. If program P halts with input I, HaltChecker returns an output of \"halts\". If progra*m P doesn't halt(runs forever) with input I, HaltChecker returns an output of \"never\". For example, in the code where it tests if variable number, the code runs forever, so HaltChecker returns an output of never.\n",
    "* Then, we add another algorithm called Reverser which reverses HaltChecker's output. So, if \"never\" is the output of HaltChecker, then the output of Reverser is halts. It's also the same the other way around: if HaltChecker has an output of \"halts\", then Reverser has an output of never.\n",
    "* We combine these algorithms into one entire body of code.\n",
    "* Since Reverser is the algorithm at the end, hence giving the ultimate output, notice how it prints \"never\" when in fact there is an end(As proved by HaltChecker), and how it also prints \"halts\" when there is in fact is no end to the code(Also proved by HaltChecker). As a result, HaltChecker is inaccurate and this is an undecidable problem."
   ]
  }
 ],
 "metadata": {
  "kernelspec": {
   "display_name": "Python 3",
   "language": "python",
   "name": "python3"
  },
  "language_info": {
   "codemirror_mode": {
    "name": "ipython",
    "version": 3
   },
   "file_extension": ".py",
   "mimetype": "text/x-python",
   "name": "python",
   "nbconvert_exporter": "python",
   "pygments_lexer": "ipython3",
   "version": "3.8.5 (tags/v3.8.5:580fbb0, Jul 20 2020, 15:43:08) [MSC v.1926 32 bit (Intel)]"
  },
  "orig_nbformat": 4,
  "vscode": {
   "interpreter": {
    "hash": "fa85844c60a4bc7a0030ca459fc516772093c99cfc4a6a8434355f4140c3aa0a"
   }
  }
 },
 "nbformat": 4,
 "nbformat_minor": 2
}
