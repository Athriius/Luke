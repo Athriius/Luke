{
 "cells": [
  {
   "attachments": {},
   "cell_type": "markdown",
   "metadata": {},
   "source": [
    "# CSUSM Comp Science and Information Systems\n",
    "\n",
    "- toc: true \n",
    "- badges: true\n",
    "- comments: true\n",
    "- categories: [jupyter, week-28]"
   ]
  },
  {
   "attachments": {},
   "cell_type": "markdown",
   "metadata": {},
   "source": [
    "# Stem at CSUSM\n",
    ">They do comp sci and have nice mustaches\n",
    "\n",
    "## Their Stories\n",
    "\n",
    "Presenter Woman: \n",
    "- Really liked physics\n",
    "- Got a D in physics 1st tri\n",
    "- Kept going, got into CSUSM\n",
    "- Now starting her PhD for material science and engineering\n",
    "- What defines you is your ability to persist through failure.\n",
    "\n",
    "Mustache Man: \n",
    "- A bit of a delinquent in high school\n",
    "- Was in Palomar for three years after graduation,\n",
    "- Took 6 years for his bachelor.\n",
    "- CS good degree, very versatile.\n",
    "\n",
    "## CSUSM\n",
    "\n",
    "* Relatively new, built just 5 years ago\n",
    "* National leader in \"Social Mobility\"\n",
    "* Options for major and minor in computer science and computer engineering\n",
    "* Can start with applied physics and go masters for mechanical engineering. Lots of programs for higher ed.\n",
    "* Contacts listed in slides\n",
    "\n",
    "## Internships:\n",
    "\n",
    "* Join clubs\n",
    "* Go to campus events\n",
    "* Ask for help with applications\n",
    "\n",
    "## Programs:\n",
    "\n",
    "* Quantum Bridge Program: Admitted students internship program. Paid 1,500 dollars.\n",
    "\n",
    "## Research:\n",
    "\n",
    "* Quantum Information Science\n",
    "* Meteorites\n",
    "* Microplastics\n",
    "* CS collaborates with chem on virtual reality labs\n",
    "\n",
    "## Paying: \n",
    "\n",
    "* Grant is gov. funded, scholarship is privately funded.\n",
    "* Scholarships can be given for most things, sports, race, military, etc.\n",
    "* Loans: Avoid getting a loan in general. (He said general twice)\n",
    "* Subsidized loan: partially funded by the government. Unsubsized loan is not.\n",
    "* Cal State offers: STEM undergrad, Teacher scholarship (for potential teachers), etc.\n",
    "\n"
   ]
  }
 ],
 "metadata": {
  "kernelspec": {
   "display_name": "base",
   "language": "python",
   "name": "python3"
  },
  "language_info": {
   "name": "python",
   "version": "3.9.12"
  },
  "orig_nbformat": 4
 },
 "nbformat": 4,
 "nbformat_minor": 2
}
