{
 "cells": [
  {
   "cell_type": "markdown",
   "metadata": {},
   "source": [
    "# 5-7 Notes\n",
    "> How .\n",
    "\n",
    "- toc: true \n",
    "- badges: true\n",
    "- comments: true\n",
    "- categories: [jupyter, Week 14]\n",
    "\n",
    "# Relational Operators in action\n",
    "How could you use operators to determine if the average of 5 grades is greater than 80?\n",
    "With the grades below, use a boolean expression to determine if the average grade is above an 80 and print the result (True or False)\n",
    "Try it in as few steps as possible!\n",
    "Be creative! There are obviously TONS of different practical solutions"
   ]
  },
  {
   "cell_type": "code",
   "execution_count": null,
   "metadata": {},
   "outputs": [],
   "source": [
    "grade1 = 90\n",
    "grade2 = 65\n",
    "grade3 = 60\n",
    "grade4 = 75\n",
    "grade5 = 95\n",
    "\n",
    "grade1 + grade2 + grade3 + grade4 + grade5 \n"
   ]
  },
  {
   "cell_type": "code",
   "execution_count": null,
   "metadata": {},
   "outputs": [],
   "source": [
    "print(\"100 == 100:\",100==100)\n",
    "print(\"Hello == Adios:\",\"greeting\"==\"farewell\")\n",
    "print(\"Hello != Adios:\",\"greeting\"!=\"farewell\")\n",
    "print(\"Hello == Hola:\",\"greeting\"==\"greeting\")\n",
    "print(\"5>=4:\", 5>=4)\n",
    "print ('')\n",
    "\n",
    "# Notice that relational operators can even work on lists!\n",
    "# For lists, the relational operator compares each respective component until an answer is derived\n",
    "\n",
    "print(\"['a','b','c'] > ['x','y','z']:\", ['a','b','c'] > ['x','y','z'])\n",
    "print(\"[1,2,3,5] > [1,2,3,4]:\", [1,2,3,5] > [1,2,3,4])\n",
    "print(\"[1,2,3,5] < [1,2,3,4]:\", [1,2,3,5] < [1,2,3,4])\n",
    "print(\"[1,2,3,5] == [1,2,3,4]:\", [1,2,3,5] == [1,2,3,4])"
   ]
  },
  {
   "cell_type": "markdown",
   "metadata": {},
   "source": [
    "# Logical Operators!\n",
    "These types of operators don't necessarily deal with equivalent/non-equivalent values, but they rather work on operands to produce a singular boolean result\n",
    "\n",
    "AND : returns TRUE if the operands around it are TRUE\n",
    "OR : returns TRUE if at least one operand is TRUE\n",
    "NOT : returns TRUE if the following boolean is FALSE\n",
    "Turn the following arithmetic phrases into either True or False statements as indicated USING LOGICAL OPERATORS"
   ]
  },
  {
   "cell_type": "code",
   "execution_count": null,
   "metadata": {},
   "outputs": [],
   "source": [
    "print(\"1 > 2 or 5 < 12:\",)\n",
    "# Output TRUE  using OR ^\n",
    "\n",
    "\n",
    "# Output FALSE using NOT\n",
    "print(\"24 > 8:\", \"NOT 24 > 8\")\n",
    "\n",
    "# Output FALSE using AND\n",
    "print(\"10 > 20:\",)"
   ]
  },
  {
   "cell_type": "code",
   "execution_count": 4,
   "metadata": {},
   "outputs": [
    {
     "name": "stdout",
     "output_type": "stream",
     "text": [
      "200\n",
      "is not equal to 200\n"
     ]
    }
   ],
   "source": [
    "num1 = 100\n",
    "num2 = 100\n",
    "sum = num1 + num2\n",
    "\n",
    "if sum == 200:\n",
    "    print(sum)\n",
    "    print(\"is not equal to 200\")\n",
    "\n",
    "else:   \n",
    "    print(sum)\n"
   ]
  },
  {
   "cell_type": "code",
   "execution_count": 2,
   "metadata": {
    "vscode": {
     "languageId": "javascript"
    }
   },
   "outputs": [
    {
     "ename": "SyntaxError",
     "evalue": "invalid syntax (2003464582.py, line 4)",
     "output_type": "error",
     "traceback": [
      "\u001b[1;36m  Input \u001b[1;32mIn [2]\u001b[1;36m\u001b[0m\n\u001b[1;33m    if (expired == TRUE)\u001b[0m\n\u001b[1;37m                        ^\u001b[0m\n\u001b[1;31mSyntaxError\u001b[0m\u001b[1;31m:\u001b[0m invalid syntax\n"
     ]
    }
   ],
   "source": [
    "cost = 10\n",
    "expired == TRUE\n",
    "\n",
    "if (expired == TRUE)\n",
    "{\n",
    "    console.log(\"This product is expired\")\n",
    "}\n",
    "else\n",
    "{\n",
    "    if (cost >= 50)\n",
    "    {\n",
    "    console.log (\"This product is too expensive.\")\n",
    "    }\n",
    "    else \n",
    "    {\n",
    "        if (cost >= 25)\n",
    "        {\n",
    "        console.log (\"This is a regular product\")\n",
    "        }\n",
    "        else\n",
    "        {\n",
    "        console.log (\"This is a cheap product\")\n",
    "        }\n",
    "    }\n",
    "}"
   ]
  },
  {
   "cell_type": "markdown",
   "metadata": {},
   "source": [
    "# Java Quiz"
   ]
  },
  {
   "cell_type": "code",
   "execution_count": null,
   "metadata": {
    "vscode": {
     "languageId": "javascript"
    }
   },
   "outputs": [],
   "source": [
    "const myQuestions = [\n",
    "    {\n",
    "      question: \"What class are we in?\",\n",
    "      answers: {\n",
    "        a: \"Yeung, APCSP\",\n",
    "        b: \"Mortensen, APCSP\",\n",
    "        c: \"Swanson, APUSH\"\n",
    "      },\n",
    "      correctAnswer: \"b\"\n",
    "    },\n",
    "    {\n",
    "      question: \"Which group had the best lesson?\",\n",
    "      answers: {\n",
    "        a: \"Unit 1-2\",\n",
    "        b: \"Unit 3-4\",\n",
    "        c: \"Unit 5-7\"\n",
    "      },\n",
    "      correctAnswer: \"c\"\n",
    "    },\n",
    "    {\n",
    "      question: \"What coding language is this code written in?\",\n",
    "      answers: {\n",
    "        a: \"Python\",\n",
    "        b: \"C++\",\n",
    "        c: \"C#\",\n",
    "        d: \"Javascript\"\n",
    "      },\n",
    "      correctAnswer: \"d\"\n",
    "    }\n",
    "  ];"
   ]
  }
 ],
 "metadata": {
  "kernelspec": {
   "display_name": "Python 3.8.5 32-bit",
   "language": "python",
   "name": "python3"
  },
  "language_info": {
   "codemirror_mode": {
    "name": "ipython",
    "version": 3
   },
   "file_extension": ".py",
   "mimetype": "text/x-python",
   "name": "python",
   "nbconvert_exporter": "python",
   "pygments_lexer": "ipython3",
   "version": "3.8.5"
  },
  "orig_nbformat": 4,
  "vscode": {
   "interpreter": {
    "hash": "fa85844c60a4bc7a0030ca459fc516772093c99cfc4a6a8434355f4140c3aa0a"
   }
  }
 },
 "nbformat": 4,
 "nbformat_minor": 2
}
