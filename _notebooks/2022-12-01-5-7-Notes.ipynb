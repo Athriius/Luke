{
 "cells": [
  {
   "cell_type": "markdown",
   "metadata": {},
   "source": [
    "# \n",
    "> How .\n",
    "\n",
    "- toc: true \n",
    "- badges: true\n",
    "- comments: true\n",
    "- categories: [jupyter, Week 14]\n",
    "\n",
    "# Relational Operators in action\n",
    "How could you use operators to determine if the average of 5 grades is greater than 80?\n",
    "With the grades below, use a boolean expression to determine if the average grade is above an 80 and print the result (True or False)\n",
    "Try it in as few steps as possible!\n",
    "Be creative! There are obviously TONS of different practical solutions"
   ]
  },
  {
   "cell_type": "code",
   "execution_count": null,
   "metadata": {},
   "outputs": [],
   "source": [
    "grade1 = 90\n",
    "grade2 = 65\n",
    "grade3 = 60\n",
    "grade4 = 75\n",
    "grade5 = 95\n",
    "\n",
    "grade1 + grade2 + grade3 + grade4 + grade5 \n"
   ]
  },
  {
   "cell_type": "code",
   "execution_count": null,
   "metadata": {},
   "outputs": [],
   "source": [
    "print(\"100 == 100:\",100==100)\n",
    "print(\"Hello == Adios:\",\"greeting\"==\"farewell\")\n",
    "print(\"Hello != Adios:\",\"greeting\"!=\"farewell\")\n",
    "print(\"Hello == Hola:\",\"greeting\"==\"greeting\")\n",
    "print(\"5>=4:\", 5>=4)\n",
    "print ('')\n",
    "\n",
    "# Notice that relational operators can even work on lists!\n",
    "# For lists, the relational operator compares each respective component until an answer is derived\n",
    "\n",
    "print(\"['a','b','c'] > ['x','y','z']:\", ['a','b','c'] > ['x','y','z'])\n",
    "print(\"[1,2,3,5] > [1,2,3,4]:\", [1,2,3,5] > [1,2,3,4])\n",
    "print(\"[1,2,3,5] < [1,2,3,4]:\", [1,2,3,5] < [1,2,3,4])\n",
    "print(\"[1,2,3,5] == [1,2,3,4]:\", [1,2,3,5] == [1,2,3,4])"
   ]
  },
  {
   "cell_type": "markdown",
   "metadata": {},
   "source": [
    "# Logical Operators!\n",
    "These types of operators don't necessarily deal with equivalent/non-equivalent values, but they rather work on operands to produce a singular boolean result\n",
    "\n",
    "AND : returns TRUE if the operands around it are TRUE\n",
    "OR : returns TRUE if at least one operand is TRUE\n",
    "NOT : returns TRUE if the following boolean is FALSE\n",
    "Turn the following arithmetic phrases into either True or False statements as indicated USING LOGICAL OPERATORS"
   ]
  },
  {
   "cell_type": "code",
   "execution_count": null,
   "metadata": {},
   "outputs": [],
   "source": [
    "print(\"1 > 2 or 5 < 12:\",)\n",
    "# Output TRUE  using OR ^\n",
    "\n",
    "\n",
    "# Output FALSE using NOT\n",
    "print(\"24 > 8:\", \"NOT 24 > 8\")\n",
    "\n",
    "# Output FALSE using AND\n",
    "print(\"10 > 20:\",)"
   ]
  },
  {
   "cell_type": "code",
   "execution_count": 4,
   "metadata": {},
   "outputs": [
    {
     "name": "stdout",
     "output_type": "stream",
     "text": [
      "200\n",
      "is not equal to 200\n"
     ]
    }
   ],
   "source": [
    "num1 = 100\n",
    "num2 = 100\n",
    "sum = num1 + num2\n",
    "\n",
    "if sum == 200:\n",
    "    print(sum)\n",
    "    print(\"is not equal to 200\")\n",
    "\n",
    "else:   \n",
    "    print(sum)\n"
   ]
  },
  {
   "cell_type": "code",
   "execution_count": 9,
   "metadata": {},
   "outputs": [
    {
     "name": "stdout",
     "output_type": "stream",
     "text": [
      "You are experienced. Your salary is 150k\n"
     ]
    }
   ],
   "source": [
    "hours = 10\n",
    "\n",
    "if (hours < 8)\n",
    "{\n",
    "    console.log(\"You are inexperienced. Your salary is 50k\")\n",
    "}\n",
    "else\n",
    "{\n",
    "    if (hours >= 10)\n",
    "    {\n",
    "    console.log (\"You are experienced. Your salary is 150k\")\n",
    "    }\n",
    "    else \n",
    "    {\n",
    "    console.log (\"You are experienced. Your salary is 90k\")  \n",
    "    }\n",
    "}"
   ]
  },
  {
   "cell_type": "markdown",
   "metadata": {},
   "source": [
    "# Homework"
   ]
  },
  {
   "cell_type": "code",
   "execution_count": 1,
   "metadata": {},
   "outputs": [
    {
     "name": "stdout",
     "output_type": "stream",
     "text": [
      "This product is expired\n"
     ]
    }
   ],
   "source": [
    "cost = 10\n",
    "expired = 1\n",
    "\n",
    "if (expired >= 0)\n",
    "{\n",
    "    console.log(\"This product is expired\")\n",
    "}\n",
    "else\n",
    "{\n",
    "    if (cost >= 50)\n",
    "    {\n",
    "    console.log (\"This product is too expensive.\")\n",
    "    }\n",
    "    else \n",
    "    {\n",
    "        if (cost >= 25)\n",
    "        {\n",
    "        console.log (\"This is a regular product\")\n",
    "        }\n",
    "        else\n",
    "        {\n",
    "        console.log (\"This is a cheap product\")\n",
    "        }\n",
    "    }\n",
    "}"
   ]
  }
 ],
 "metadata": {
  "kernelspec": {
   "display_name": "JavaScript (Node.js)",
   "language": "javascript",
   "name": "javascript"
  },
  "language_info": {
   "file_extension": ".js",
   "mimetype": "application/javascript",
   "name": "javascript",
   "version": "6.11.2"
  },
  "orig_nbformat": 4,
  "vscode": {
   "interpreter": {
    "hash": "fa85844c60a4bc7a0030ca459fc516772093c99cfc4a6a8434355f4140c3aa0a"
   }
  }
 },
 "nbformat": 4,
 "nbformat_minor": 2
}
