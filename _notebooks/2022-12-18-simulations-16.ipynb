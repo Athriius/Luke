{
 "cells": [
  {
   "attachments": {},
   "cell_type": "markdown",
   "metadata": {},
   "source": [
    "# 16 Homework\n",
    "> Notes for 17 and 18.\n",
    "\n",
    "- toc: true \n",
    "- badges: true\n",
    "- comments: true\n",
    "- categories: [jupyter, Week 16]"
   ]
  },
  {
   "attachments": {},
   "cell_type": "markdown",
   "metadata": {},
   "source": [
    "This code simulates the motion of the ball using the equations of motion for projectile motion. It starts the ball at the left field (x = 0), and simulates its motion by updating its position at each time step using the initial velocity components and the acceleration due to gravity. The loop continues until the ball reaches home plate (x > 100), at which point the simulation stops and the final position of the ball is printed. It uses a physics equation to see where the ball will be thrown based on the angle and speed of the ball."
   ]
  },
  {
   "cell_type": "code",
   "execution_count": null,
   "metadata": {},
   "outputs": [],
   "source": [
    "import math\n",
    "\n",
    "# Constants\n",
    "GRAVITY = 9.81  # acceleration due to gravity, in m/s^2\n",
    "\n",
    "# Inputs\n",
    "angle = 45  # angle at which the ball is thrown, in degrees\n",
    "initial_speed = 30  # initial speed of the ball, in m/s\n",
    "\n",
    "# Conversion from degrees to radians\n",
    "angle_radians = angle * math.pi / 180\n",
    "\n",
    "# Initial velocity components\n",
    "vx = initial_speed * math.cos(angle_radians)\n",
    "vy = initial_speed * math.sin(angle_radians)\n",
    "\n",
    "# Time step\n",
    "dt = 0.01  # time step, in seconds\n",
    "\n",
    "# Initial position (left field)\n",
    "x = 0\n",
    "y = 0\n",
    "\n",
    "# Simulation loop\n",
    "while True:\n",
    "    # Update position\n",
    "    x = x + vx * dt\n",
    "    y = y + vy * dt\n",
    "    vy = vy - GRAVITY * dt\n",
    "\n",
    "    # Break the loop if the ball has reached home plate\n",
    "    if x > 100:\n",
    "        break\n",
    "\n",
    "print(\"The ball landed at x =\", x, \"and y =\", y)"
   ]
  },
  {
   "attachments": {},
   "cell_type": "markdown",
   "metadata": {},
   "source": [
    "# Example of a Simulation\n",
    "\n",
    "One example of a simulation is the game Hearts of Iron 4. This game simulates world war 2 by having each nation follow a set of algorithms that determine their behavior. The inputs for these algorithms are determined by the choices the player country. \n",
    "\n",
    "![]({{ site.baseurl }}/images/hoimap.png)"
   ]
  }
 ],
 "metadata": {
  "kernelspec": {
   "display_name": "Python 3",
   "language": "python",
   "name": "python3"
  },
  "language_info": {
   "name": "python",
   "version": "3.8.5 (tags/v3.8.5:580fbb0, Jul 20 2020, 15:43:08) [MSC v.1926 32 bit (Intel)]"
  },
  "orig_nbformat": 4,
  "vscode": {
   "interpreter": {
    "hash": "fa85844c60a4bc7a0030ca459fc516772093c99cfc4a6a8434355f4140c3aa0a"
   }
  }
 },
 "nbformat": 4,
 "nbformat_minor": 2
}
