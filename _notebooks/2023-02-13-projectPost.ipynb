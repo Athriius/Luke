{
 "cells": [
  {
   "attachments": {},
   "cell_type": "markdown",
   "metadata": {},
   "source": [
    "# Project Post, Week\n",
    "> Scoring for the College Board Performance Task Examples\n",
    "\n",
    "- toc: true \n",
    "- badges: true\n",
    "- comments: true\n",
    "- categories: [jupyter, week-23]"
   ]
  },
  {
   "cell_type": "code",
   "execution_count": null,
   "metadata": {},
   "outputs": [],
   "source": []
  },
  {
   "attachments": {},
   "cell_type": "markdown",
   "metadata": {},
   "source": [
    "# Frontend Display\n",
    "\n",
    "Here is the outline of my frontend for inputting a post. It has two input boxes that each accept strings of text for movie title and reason for post. \n",
    "\n",
    "![]({{ site.baseurl }}/images/input.png)\n",
    "\n",
    "# Storing Data\n",
    "\n",
    "Here is all of the code I am using to store the data for the post in the frontend. It creates a matrix which contains the data for a post, the Movie title and the Reason."
   ]
  },
  {
   "cell_type": "code",
   "execution_count": null,
   "metadata": {},
   "outputs": [],
   "source": [
    "<script>\n",
    "        let movies = [];\n",
    "        const addMovie = (ev)=>{\n",
    "            ev.preventDefault();  //to stop the form submitting\n",
    "            let movie = {\n",
    "                id: Date.now(),\n",
    "                title: document.getElementById('fname').value,\n",
    "                year: document.getElementById('lname').value\n",
    "            }\n",
    "            if (value === \"\") {\n",
    "             clearTimeout(movies)\n",
    "            }\n",
    "            movies.push(movie);\n",
    "            document.forms[0].reset(); // to clear the form for the next entries\n",
    "            //document.querySelector('form').reset();\n",
    "\n",
    "            //for display purposes only\n",
    "            console.warn('added' , {movies} );\n",
    "            let pre = document.querySelector('#msg pre');\n",
    "            pre.textContent = '\\n' + JSON.stringify(movies, '\\t', 2);\n",
    "\n",
    "            //saving to localStorage\n",
    "            localStorage.setItem('MyMovieList', JSON.stringify(movies) );\n",
    "        }\n",
    "        document.addEventListener('DOMContentLoaded', ()=>{\n",
    "            document.getElementById('btn').addEventListener('click', addMovie);\n",
    "        });\n",
    "</script>"
   ]
  },
  {
   "attachments": {},
   "cell_type": "markdown",
   "metadata": {},
   "source": [
    "This piece specifically performs selection by checking if there is or isn't a value inputted in the input section for the post. If there is no value inputted it stops the function and does not submit the post."
   ]
  },
  {
   "cell_type": "code",
   "execution_count": null,
   "metadata": {},
   "outputs": [],
   "source": [
    "if (value === \"\") {\n",
    "    clearTimeout(movies)\n",
    "   }"
   ]
  }
 ],
 "metadata": {
  "kernelspec": {
   "display_name": "JavaScript (Node.js)",
   "language": "javascript",
   "name": "javascript"
  },
  "language_info": {
   "file_extension": ".js",
   "mimetype": "application/javascript",
   "name": "javascript",
   "version": "6.11.2"
  },
  "orig_nbformat": 4,
  "vscode": {
   "interpreter": {
    "hash": "916dbcbb3f70747c44a77c7bcd40155683ae19c65e1c03b4aa3499c5328201f1"
   }
  }
 },
 "nbformat": 4,
 "nbformat_minor": 2
}
