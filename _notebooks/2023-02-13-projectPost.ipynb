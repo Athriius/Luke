{
 "cells": [
  {
   "attachments": {},
   "cell_type": "markdown",
   "metadata": {},
   "source": [
    "# Performance Task Scoring\n",
    "> Scoring for the College Board Performance Task Examples\n",
    "\n",
    "- toc: true \n",
    "- badges: true\n",
    "- comments: true\n",
    "- categories: [jupyter, week-22]"
   ]
  },
  {
   "attachments": {},
   "cell_type": "markdown",
   "metadata": {},
   "source": [
    "# Frontend Display\n",
    "\n",
    "Here is the outline of my frontend for inputting a post. It has two input boxes that each accept strings of text for movie title and reason for post. \n",
    "\n",
    "![]({{ site.baseurl }}/images/input.png)\n",
    "\n",
    "# Storing Data\n",
    "\n",
    "Here is all of the code I am using to store the data for the post in the frontend. It creates a matrix which contains the data for a post, the Movie title and the Reason."
   ]
  },
  {
   "cell_type": "code",
   "execution_count": 2,
   "metadata": {
    "vscode": {
     "languageId": "javascript"
    }
   },
   "outputs": [
    {
     "ename": "IndentationError",
     "evalue": "unindent does not match any outer indentation level (<tokenize>, line 28)",
     "output_type": "error",
     "traceback": [
      "\u001b[1;36m  File \u001b[1;32m<tokenize>:28\u001b[1;36m\u001b[0m\n\u001b[1;33m    </script>\u001b[0m\n\u001b[1;37m    ^\u001b[0m\n\u001b[1;31mIndentationError\u001b[0m\u001b[1;31m:\u001b[0m unindent does not match any outer indentation level\n"
     ]
    }
   ],
   "source": [
    "<script>\n",
    "        let movies = [];\n",
    "        const addMovie = (ev)=>{\n",
    "            ev.preventDefault();  //to stop the form submitting\n",
    "            let movie = {\n",
    "                id: Date.now(),\n",
    "                title: document.getElementById('fname').value,\n",
    "                year: document.getElementById('lname').value\n",
    "            }\n",
    "            if (value === \"\") {\n",
    "             clearTimeout(movies)\n",
    "            }\n",
    "            movies.push(movie);\n",
    "            document.forms[0].reset(); // to clear the form for the next entries\n",
    "            //document.querySelector('form').reset();\n",
    "\n",
    "            //for display purposes only\n",
    "            console.warn('added' , {movies} );\n",
    "            let pre = document.querySelector('#msg pre');\n",
    "            pre.textContent = '\\n' + JSON.stringify(movies, '\\t', 2);\n",
    "\n",
    "            //saving to localStorage\n",
    "            localStorage.setItem('MyMovieList', JSON.stringify(movies) );\n",
    "        }\n",
    "        document.addEventListener('DOMContentLoaded', ()=>{\n",
    "            document.getElementById('btn').addEventListener('click', addMovie);\n",
    "        });\n",
    "</script>"
   ]
  }
 ],
 "metadata": {
  "kernelspec": {
   "display_name": "Python 3",
   "language": "python",
   "name": "python3"
  },
  "language_info": {
   "codemirror_mode": {
    "name": "ipython",
    "version": 3
   },
   "file_extension": ".py",
   "mimetype": "text/x-python",
   "name": "python",
   "nbconvert_exporter": "python",
   "pygments_lexer": "ipython3",
   "version": "3.8.5"
  },
  "orig_nbformat": 4,
  "vscode": {
   "interpreter": {
    "hash": "fa85844c60a4bc7a0030ca459fc516772093c99cfc4a6a8434355f4140c3aa0a"
   }
  }
 },
 "nbformat": 4,
 "nbformat_minor": 2
}
