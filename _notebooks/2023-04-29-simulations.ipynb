{
 "cells": [
  {
   "cell_type": "markdown",
   "metadata": {},
   "source": []
  },
  {
   "cell_type": "code",
   "execution_count": 1,
   "metadata": {},
   "outputs": [
    {
     "name": "stdout",
     "output_type": "stream",
     "text": [
      "This is a quiz based on the simulations lesson.\n",
      "Question: TRUE OR FALSE: Simulations can be biased.\n",
      "Answer: a\n",
      "Incorrect!\n",
      "Question: TRUE OR FALSE: Dictionaries are ordered\n",
      "Answer: False\n",
      "Correct!\n",
      "Question: TRUE OR FALSE: It is easy to find values in large lists.\n",
      "Answer: True\n",
      "Incorrect!\n",
      "You got 1/3 correct.\n",
      "ltang that's a 33.33333333333333%\n",
      "The answers in order were 'TRUE', 'FALSE', and 'FALSE' for next time.\n",
      "Your recorded answers for review: {'Q1': 'a', 'Q2': 'False', 'Q3': 'True'}\n"
     ]
    }
   ],
   "source": [
    "import getpass \n",
    "\n",
    "questions = 3\n",
    "correct = 0\n",
    "\n",
    "print(\"Begin Quiz\")\n",
    "\n",
    "def question_answer(q, a):\n",
    "    print(\"Question: \" + q)\n",
    "    resp = input()\n",
    "    print(\"Answer: \" + resp)\n",
    "\n",
    "    if a == resp.lower():\n",
    "        print(\"Correct!\")\n",
    "        global correct\n",
    "        correct +=1\n",
    "    else:\n",
    "        print(\"Incorrect!\")\n",
    "    return resp\n",
    "\n",
    "q1 = question_answer(\"Answer True or False: Lists are sorted by key-value pairs\", \"false\")\n",
    "q2 = question_answer(\"Answer True or False: Both keys and values are immutable\", \"false\")\n",
    "q3 = question_answer(\"Answer True or False: It is important to be wary of bias in simulations\", \"true\")\n",
    "\n",
    "if correct < 3:\n",
    "    print(f'You got {correct}/3 correct.')\n",
    "    print (getpass.getuser() + \" that's a \" + str((correct / questions)* 100)+ \"%\")\n",
    "    \n",
    "    print(\"The answers in order were 'TRUE', 'FALSE', and 'FALSE' for next time.\")\n",
    "else:\n",
    "    print(f'Great job! You got a 100%.')\n",
    "\n",
    "PyQuiz = {\n",
    "    \"Q1\": q1,\n",
    "    \"Q2\": q2,\n",
    "    \"Q3\": q3\n",
    "}\n",
    "\n",
    "print(\"Your recorded answers for review:\", PyQuiz)"
   ]
  },
  {
   "attachments": {},
   "cell_type": "markdown",
   "metadata": {},
   "source": [
    "A combat simulation like in the game Dungeons and Dragons:"
   ]
  },
  {
   "cell_type": "code",
   "execution_count": 5,
   "metadata": {},
   "outputs": [
    {
     "ename": "TypeError",
     "evalue": "can only concatenate str (not \"int\") to str",
     "output_type": "error",
     "traceback": [
      "\u001b[1;31m---------------------------------------------------------------------------\u001b[0m",
      "\u001b[1;31mTypeError\u001b[0m                                 Traceback (most recent call last)",
      "Cell \u001b[1;32mIn[5], line 10\u001b[0m\n\u001b[0;32m      7\u001b[0m d20roll \u001b[39m=\u001b[39m random\u001b[39m.\u001b[39mchoice(d20)\n\u001b[0;32m      9\u001b[0m \u001b[39mif\u001b[39;00m d20roll \u001b[39m>\u001b[39m\u001b[39m=\u001b[39m \u001b[39m13\u001b[39m:\n\u001b[1;32m---> 10\u001b[0m     \u001b[39mprint\u001b[39m (\u001b[39m\"\u001b[39;49m\u001b[39mYou hit for\u001b[39;49m\u001b[39m\"\u001b[39;49m \u001b[39m+\u001b[39;49m d6roll \u001b[39m+\u001b[39m \u001b[39m\"\u001b[39m\u001b[39mdamage.\u001b[39m\u001b[39m\"\u001b[39m)\n\u001b[0;32m     11\u001b[0m \u001b[39melse\u001b[39;00m:\n\u001b[0;32m     12\u001b[0m     \u001b[39mprint\u001b[39m(\u001b[39m\"\u001b[39m\u001b[39mYou missed.\u001b[39m\u001b[39m\"\u001b[39m)\n",
      "\u001b[1;31mTypeError\u001b[0m: can only concatenate str (not \"int\") to str"
     ]
    }
   ],
   "source": [
    "import random\n",
    "\n",
    "d6 = [1, 2, 3, 4, 5, 6]\n",
    "d20 = [1, 2, 3, 4, 5, 6, 7, 8, 9, 10, 11, 12, 13, 14, 15, 16, 17, 18, 19, 20]\n",
    "\n",
    "d6roll = random.choice(d6)\n",
    "d20roll = random.choice(d20)\n",
    "\n",
    "if d20roll >= 13:\n",
    "    print (\"You hit for\" + d6roll + \"damage.\")\n",
    "else:\n",
    "    print(\"You missed.\")\n"
   ]
  },
  {
   "cell_type": "code",
   "execution_count": null,
   "metadata": {},
   "outputs": [],
   "source": []
  }
 ],
 "metadata": {
  "kernelspec": {
   "display_name": "Python 3",
   "language": "python",
   "name": "python3"
  },
  "language_info": {
   "codemirror_mode": {
    "name": "ipython",
    "version": 3
   },
   "file_extension": ".py",
   "mimetype": "text/x-python",
   "name": "python",
   "nbconvert_exporter": "python",
   "pygments_lexer": "ipython3",
   "version": "3.11.3"
  },
  "orig_nbformat": 4
 },
 "nbformat": 4,
 "nbformat_minor": 2
}
