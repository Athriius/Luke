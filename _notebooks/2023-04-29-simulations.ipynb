{
 "cells": [
  {
   "cell_type": "markdown",
   "metadata": {},
   "source": []
  },
  {
   "attachments": {},
   "cell_type": "markdown",
   "metadata": {},
   "source": [
    "## Sorting With Python"
   ]
  },
  {
   "cell_type": "code",
   "execution_count": 37,
   "metadata": {},
   "outputs": [
    {
     "data": {
      "text/plain": [
       "[1, 2, 3, 4, 5, 5, 6, 7, 8, 10, 11, 12]"
      ]
     },
     "execution_count": 37,
     "metadata": {},
     "output_type": "execute_result"
    }
   ],
   "source": [
    "numbers = [5, 7, 2, 8, 10, 1, 4, 3, 12, 5, 11, 6]\n",
    "\n",
    "def sort_danumbers(numbers):\n",
    "    n = len(numbers)\n",
    "\n",
    "    for i in range(n):\n",
    "\n",
    "        already_sorted = True\n",
    "\n",
    "        for j in range(n - i - 1):\n",
    "            if numbers[j] > numbers[j + 1]:\n",
    "                \n",
    "                numbers[j], numbers[j + 1] = numbers[j + 1], numbers[j]\n",
    "\n",
    "              \n",
    "                already_sorted = False\n",
    "\n",
    "       \n",
    "        if already_sorted:\n",
    "            break\n",
    "\n",
    "    return numbers\n",
    "\n",
    "sort_danumbers(numbers)"
   ]
  },
  {
   "attachments": {},
   "cell_type": "markdown",
   "metadata": {},
   "source": [
    "## My Simulation\n",
    "A combat simulation like in the game Dungeons and Dragons:"
   ]
  },
  {
   "cell_type": "code",
   "execution_count": 34,
   "metadata": {},
   "outputs": [
    {
     "name": "stdout",
     "output_type": "stream",
     "text": [
      "You hit for 6 damage.\n"
     ]
    }
   ],
   "source": [
    "import random\n",
    "\n",
    "d6 = [1, 2, 3, 4, 5, 6]\n",
    "d20 = [1, 2, 3, 4, 5, 6, 7, 8, 9, 10, 11, 12, 13, 14, 15, 16, 17, 18, 19, 20]\n",
    "\n",
    "d6roll = random.choice(d6)\n",
    "d20roll = random.choice(d20)\n",
    "\n",
    "if d20roll >= 13:\n",
    "    print (\"You hit for \" + str(d6roll) + \" damage.\")\n",
    "else:\n",
    "    print(\"You missed.\")\n"
   ]
  }
 ],
 "metadata": {
  "kernelspec": {
   "display_name": "Python 3",
   "language": "python",
   "name": "python3"
  },
  "language_info": {
   "codemirror_mode": {
    "name": "ipython",
    "version": 3
   },
   "file_extension": ".py",
   "mimetype": "text/x-python",
   "name": "python",
   "nbconvert_exporter": "python",
   "pygments_lexer": "ipython3",
   "version": "3.11.3"
  },
  "orig_nbformat": 4
 },
 "nbformat": 4,
 "nbformat_minor": 2
}
