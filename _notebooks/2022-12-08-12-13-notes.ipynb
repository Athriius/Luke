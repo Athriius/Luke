{
 "cells": [
  {
   "attachments": {},
   "cell_type": "markdown",
   "metadata": {},
   "source": [
    "# 12-13 Notes\n",
    "> Notes for 12 and 13.\n",
    "\n",
    "- toc: true \n",
    "- badges: true\n",
    "- comments: true\n",
    "- categories: [jupyter, week-15]"
   ]
  },
  {
   "cell_type": "markdown",
   "metadata": {},
   "source": [
    "# Calling Procedures\n",
    "\n",
    "* A procedure is a named group of programming instructions that may have parameters and return values.\n",
    "* Procedures are referred to by different names, such as method or function, depending on the programing language.\n",
    "* Parameters are input values of a procedure. Arguments specify the values of the parameters when procedure is called.\n",
    "* A procedure call interrupts the sequential execution of statements causing the program to execute the statements within the procedure before continuing. One the last statement in the procedure (or a return statement) has executed, flow or control is returned to the point immediately following where the procedure was called.\n",
    "\n",
    "# Calling Procedures Cont.\n",
    "\n",
    "* When calling procedures, it's important to take notice to whether it returns data, or a block of statements.\n",
    "* If the procedure just returns a block of statements, you call the procedure by referring to the procedure name, and inputting the arguments.\n",
    "* If the procedure returns some sort of data like a boolean or value, then you will assign that value to a variable\n",
    "\n",
    "# Problem #1 (5min)\n",
    "* Add a procedure call to the code segment below that will convert the outside temperature to Celsius.\n",
    "* Assume the Temperature outside is Fahrenheit. The procedure convertFahrenheit is intended to convert from Fahrenheit to Celsius.\n",
    "* You will need to convert the pseudo code to Python"
   ]
  },
  {
   "cell_type": "code",
   "execution_count": null,
   "metadata": {},
   "outputs": [],
   "source": [
    "temperature = input()\n",
    "\n",
    "def convertFahrenheit (temperature):\n",
    "\tcelsius = temperature - 32\n",
    "\tcelsius = celsius  * 5/9\n",
    "\treturn celsius\n",
    "\t\n",
    "outsideTemp = input(\"What is the temperature outside?\")\n",
    "outsideTemp = (convertFahrenheit(int(outsideTemp)))\n",
    "print(outsideTemp)"
   ]
  },
  {
   "cell_type": "markdown",
   "metadata": {},
   "source": [
    "# Developing Procedures\n",
    "There are 2 different types of procedures- ones that return a value and those that simply execute a block of statements\n",
    "Picking a descriptive name is important in case you revisit the code later on (separate words with capitals)\n",
    "Steps of developing procedure: picking name, thinking of parameters (what data does the procedure need to know), making a flowchart or writing procedure in pseudocode, and actually developing the procedure.\n"
   ]
  },
  {
   "cell_type": "markdown",
   "metadata": {},
   "source": [
    "# Writing Procedures\n",
    "In this example, a teacher is writing a program that will replace the grade on a previous quiz if the new grade is better than the previous.\n",
    "What would be a good name for this procedure?\n",
    "What parameters do we need for this procedure?\n",
    "Try writing this procedure out in python based on the pseudocode\n"
   ]
  },
  {
   "cell_type": "code",
   "execution_count": 3,
   "metadata": {},
   "outputs": [
    {
     "ename": "ValueError",
     "evalue": "invalid literal for int() with base 10: ''",
     "output_type": "error",
     "traceback": [
      "\u001b[1;31m---------------------------------------------------------------------------\u001b[0m",
      "\u001b[1;31mValueError\u001b[0m                                Traceback (most recent call last)",
      "\u001b[1;32mc:\\Users\\Luke Angelini\\vscode\\Luke1\\_notebooks\\2022-12-08-12-13-notes.ipynb Cell 6\u001b[0m in \u001b[0;36m<cell line: 10>\u001b[1;34m()\u001b[0m\n\u001b[0;32m      <a href='vscode-notebook-cell:/c%3A/Users/Luke%20Angelini/vscode/Luke1/_notebooks/2022-12-08-12-13-notes.ipynb#W5sZmlsZQ%3D%3D?line=6'>7</a>\u001b[0m     \u001b[39mif\u001b[39;00m currentGrade \u001b[39m>\u001b[39m quizGrade:\n\u001b[0;32m      <a href='vscode-notebook-cell:/c%3A/Users/Luke%20Angelini/vscode/Luke1/_notebooks/2022-12-08-12-13-notes.ipynb#W5sZmlsZQ%3D%3D?line=7'>8</a>\u001b[0m         \u001b[39mreturn\u001b[39;00m quizGrade\n\u001b[1;32m---> <a href='vscode-notebook-cell:/c%3A/Users/Luke%20Angelini/vscode/Luke1/_notebooks/2022-12-08-12-13-notes.ipynb#W5sZmlsZQ%3D%3D?line=9'>10</a>\u001b[0m currentGrade \u001b[39m=\u001b[39m (convertGrade(\u001b[39mint\u001b[39;49m(currentGrade)))\n\u001b[0;32m     <a href='vscode-notebook-cell:/c%3A/Users/Luke%20Angelini/vscode/Luke1/_notebooks/2022-12-08-12-13-notes.ipynb#W5sZmlsZQ%3D%3D?line=10'>11</a>\u001b[0m \u001b[39mprint\u001b[39m(\u001b[39m\"\u001b[39m\u001b[39mGrade:\u001b[39m\u001b[39m\"\u001b[39m, quizGrade)\n",
      "\u001b[1;31mValueError\u001b[0m: invalid literal for int() with base 10: ''"
     ]
    }
   ],
   "source": [
    "currentGrade = input()\n",
    "quizGrade = input()\n",
    "\n",
    "def convertGrade(currentPoints):\n",
    "    currentGrade = currentPoints / 40\n",
    "    currendGrade = currentGrade * 100\n",
    "    if currentGrade > quizGrade:\n",
    "        return quizGrade\n",
    "\n",
    "currentGrade = (convertGrade(int(currentGrade)))\n",
    "print(\"Grade:\", quizGrade)"
   ]
  },
  {
   "attachments": {},
   "cell_type": "markdown",
   "metadata": {},
   "source": [
    "# Procedural Abstraction\n",
    "\n",
    "One type of abstraction is procedural abstraction which provides a name for a process and allows a procedure to be used only knowing what it does and not how it does it\n",
    "This is very helpful in managing complexity in a program\n",
    "Subdivision of a program into separate subprograms is called modularity\n",
    "A procedural abstraction may extract shared features to generalize functionality instead of duplicating code. This allows for program reuse, which helps manage complexity\n",
    "\n",
    "# Procedural Abstractin Part 2\n",
    "When a pre-written procedure is called, you don’t necessarily need to know the details of this, just what it does and how to call it\n",
    "Simply, procedural abstraction is naming and calling a prewritten procedure\n",
    "Making sure to include the right arguments so the procedure can do what its supposed to do is crucial\n",
    "\n",
    "# Homework\n",
    "\n",
    "A procedure that can be used in math to find the area of a circle."
   ]
  },
  {
   "cell_type": "code",
   "execution_count": 7,
   "metadata": {},
   "outputs": [
    {
     "name": "stdout",
     "output_type": "stream",
     "text": [
      "Area: 314.0\n"
     ]
    }
   ],
   "source": [
    "pi = 3.14\n",
    "\n",
    "def showAreaOfCircle(radius):\n",
    "    area = pi * radius * radius\n",
    "    print('Area: ' + str(area))\n",
    "\n",
    "showAreaOfCircle(10)\n",
    "\n"
   ]
  }
 ],
 "metadata": {
  "kernelspec": {
   "display_name": "Python 3.8.5 32-bit",
   "language": "python",
   "name": "python3"
  },
  "language_info": {
   "codemirror_mode": {
    "name": "ipython",
    "version": 3
   },
   "file_extension": ".py",
   "mimetype": "text/x-python",
   "name": "python",
   "nbconvert_exporter": "python",
   "pygments_lexer": "ipython3",
   "version": "3.8.5 (tags/v3.8.5:580fbb0, Jul 20 2020, 15:43:08) [MSC v.1926 32 bit (Intel)]"
  },
  "orig_nbformat": 4,
  "vscode": {
   "interpreter": {
    "hash": "fa85844c60a4bc7a0030ca459fc516772093c99cfc4a6a8434355f4140c3aa0a"
   }
  }
 },
 "nbformat": 4,
 "nbformat_minor": 2
}
