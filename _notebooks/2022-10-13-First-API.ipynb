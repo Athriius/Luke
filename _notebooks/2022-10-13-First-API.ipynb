{
 "cells": [
  {
   "cell_type": "markdown",
   "metadata": {},
   "source": [
    "# First API\n",
    "> Random math problems with an API and Changes\n",
    "\n",
    "- title: First API\n",
    "- toc: true\n",
    "- categories: [python, Week7]"
   ]
  },
  {
   "cell_type": "code",
   "execution_count": 1,
   "metadata": {},
   "outputs": [
    {
     "ename": "ModuleNotFoundError",
     "evalue": "No module named 'requests'",
     "output_type": "error",
     "traceback": [
      "\u001b[1;31m---------------------------------------------------------------------------\u001b[0m",
      "\u001b[1;31mModuleNotFoundError\u001b[0m                       Traceback (most recent call last)",
      "\u001b[1;32mc:\\Users\\Luke Angelini\\vscode\\Luke1\\_notebooks\\2022-10-13-First-API.ipynb Cell 2\u001b[0m in \u001b[0;36m<cell line: 1>\u001b[1;34m()\u001b[0m\n\u001b[1;32m----> <a href='vscode-notebook-cell:/c%3A/Users/Luke%20Angelini/vscode/Luke1/_notebooks/2022-10-13-First-API.ipynb#W1sZmlsZQ%3D%3D?line=0'>1</a>\u001b[0m \u001b[39mimport\u001b[39;00m \u001b[39mrequests\u001b[39;00m\n\u001b[0;32m      <a href='vscode-notebook-cell:/c%3A/Users/Luke%20Angelini/vscode/Luke1/_notebooks/2022-10-13-First-API.ipynb#W1sZmlsZQ%3D%3D?line=2'>3</a>\u001b[0m url \u001b[39m=\u001b[39m \u001b[39m\"\u001b[39m\u001b[39mhttps://random-math-problem.p.rapidapi.com/random-problem\u001b[39m\u001b[39m\"\u001b[39m\n\u001b[0;32m      <a href='vscode-notebook-cell:/c%3A/Users/Luke%20Angelini/vscode/Luke1/_notebooks/2022-10-13-First-API.ipynb#W1sZmlsZQ%3D%3D?line=4'>5</a>\u001b[0m querystring \u001b[39m=\u001b[39m {\u001b[39m\"\u001b[39m\u001b[39mtype\u001b[39m\u001b[39m\"\u001b[39m:\u001b[39m\"\u001b[39m\u001b[39mhtml\u001b[39m\u001b[39m\"\u001b[39m}\n",
      "\u001b[1;31mModuleNotFoundError\u001b[0m: No module named 'requests'"
     ]
    }
   ],
   "source": [
    "import requests\n",
    "\n",
    "url = \"https://random-math-problem.p.rapidapi.com/random-problem\"\n",
    "\n",
    "querystring = {\"type\":\"html\"}\n",
    "\n",
    "headers = {\n",
    "\t\"X-RapidAPI-Key\": \"8677538c65mshfd1d85d7adf047fp17a8a1jsn7a54a04df28c\",\n",
    "\t\"X-RapidAPI-Host\": \"random-math-problem.p.rapidapi.com\"\n",
    "}\n",
    "\n",
    "response = requests.request(\"GET\", url, headers=headers, params=querystring)\n",
    "\n",
    "title = response.json().get('title')\n",
    "problem = response.json().get('problem')\n",
    "\n",
    "print(\"Printing response.text\")\n",
    "print(response.text)"
   ]
  },
  {
   "cell_type": "code",
   "execution_count": 2,
   "metadata": {},
   "outputs": [
    {
     "name": "stdout",
     "output_type": "stream",
     "text": [
      "Printing response.json()\n",
      "{'title': '<h2>Inverse Digit Sum II</h2>', 'problem': '<div class=\"problem_content\" role=\"problem\">\\r\\n<p>Writing down the numbers which have a digit sum of 10 in ascending order, we get:\\n$19, 28, 37, 46,55,64,73,82,91,109, 118,\\\\dots$</p>\\n<p>\\nLet $f(n,m)$ be the $m^{\\\\text{th}}$ occurrence of the digit sum $n$. For example, $f(10,1)=19$, $f(10,10)=109$ and $f(10,100)=1423$.</p>\\n<p>\\nLet $\\\\displaystyle S(k)=\\\\sum_{n=1}^k f(n^3,n^4)$. For example $S(3)=7128$ and $S(10)\\\\equiv 32287064 \\\\mod 1\\\\,000\\\\,000\\\\,007$.</p>\\n<p>\\nFind $S(10\\\\,000)$ modulo $1\\\\,000\\\\,000\\\\,007$.</p>\\n</div>'}\n"
     ]
    }
   ],
   "source": [
    "print(\"Printing response.json()\")\n",
    "print(response.json())"
   ]
  },
  {
   "cell_type": "markdown",
   "metadata": {},
   "source": [
    "## Organized Question\n",
    "Each question has a title and a problem. The title is the name of the project, and the problem stores the actual question. Printing each thing will allow the user to see the specific HTML in the"
   ]
  },
  {
   "cell_type": "code",
   "execution_count": 3,
   "metadata": {},
   "outputs": [
    {
     "name": "stdout",
     "output_type": "stream",
     "text": [
      "Printing a title\n",
      "<h2>Inverse Digit Sum II</h2>\n"
     ]
    }
   ],
   "source": [
    "print(\"Printing a title\")\n",
    "print(title) "
   ]
  },
  {
   "cell_type": "code",
   "execution_count": 4,
   "metadata": {},
   "outputs": [
    {
     "name": "stdout",
     "output_type": "stream",
     "text": [
      "Printing a problem\n",
      "<div class=\"problem_content\" role=\"problem\">\n",
      "<p>Writing down the numbers which have a digit sum of 10 in ascending order, we get:\n",
      "$19, 28, 37, 46,55,64,73,82,91,109, 118,\\dots$</p>\n",
      "<p>\n",
      "Let $f(n,m)$ be the $m^{\\text{th}}$ occurrence of the digit sum $n$. For example, $f(10,1)=19$, $f(10,10)=109$ and $f(10,100)=1423$.</p>\n",
      "<p>\n",
      "Let $\\displaystyle S(k)=\\sum_{n=1}^k f(n^3,n^4)$. For example $S(3)=7128$ and $S(10)\\equiv 32287064 \\mod 1\\,000\\,000\\,007$.</p>\n",
      "<p>\n",
      "Find $S(10\\,000)$ modulo $1\\,000\\,000\\,007$.</p>\n",
      "</div>\n"
     ]
    }
   ],
   "source": [
    "print(\"Printing a problem\")\n",
    "print(problem)"
   ]
  }
 ],
 "metadata": {
  "kernelspec": {
   "display_name": "Python 3.8.5 32-bit",
   "language": "python",
   "name": "python3"
  },
  "language_info": {
   "codemirror_mode": {
    "name": "ipython",
    "version": 3
   },
   "file_extension": ".py",
   "mimetype": "text/x-python",
   "name": "python",
   "nbconvert_exporter": "python",
   "pygments_lexer": "ipython3",
   "version": "3.8.5"
  },
  "orig_nbformat": 4,
  "vscode": {
   "interpreter": {
    "hash": "fa85844c60a4bc7a0030ca459fc516772093c99cfc4a6a8434355f4140c3aa0a"
   }
  }
 },
 "nbformat": 4,
 "nbformat_minor": 2
}
