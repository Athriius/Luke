{
 "cells": [
  {
   "attachments": {},
   "cell_type": "markdown",
   "metadata": {},
   "source": [
    "## Notes on Feb 1 Tech Talk 5.3 and 5.4\n",
    ">\n",
    "\n",
    "- toc: true \n",
    "- badges: true\n",
    "- comments: true\n",
    "- categories: [jupyter, week-21]"
   ]
  },
  {
   "attachments": {},
   "cell_type": "markdown",
   "metadata": {},
   "source": [
    "## 5.3\n",
    "\n",
    "# Question 1: What Age Groups Are Facebook and Tiktok?\n",
    "\n",
    "- According to the data: (Statista + Wallroomedia)\n",
    "\n",
    "| Site | 10-34 | 34-54 | 54+ |\n",
    "| Facebook | 45.6% | 31.9 % | 22.4 % |\n",
    "| Tiktok | 62% | 30.3% | 7.1 % |\n",
    "\n",
    "Tiktok users on much younger on average than facebook users.\n",
    "\n",
    "# Question 2 Why do Virtual Assistants Have Female Voices.\n",
    "\n",
    "Companies have gathered much more data for female voices. \n",
    "\n",
    "# Question 3 Algorithms That Influence Our Decisions.\n",
    "\n",
    "Google algorithm for advertisements influences what products are put in front of you and therefore what you are aware of. Can put things that entice you specifically and appeal to your vices when you otherwise wouldn't have that\n",
    "\n",
    "# Is the HP Computer Racist?\n",
    "\n",
    "I don't think that the designers of the computers were racist. I can imagine that they aren't exactly thorough testers, but not racist. Mostly I think it is ignorance on the testers part as they probably aren't black and so when they were testing they weren't able to get any testing done with black faces meaning the software doesnt recognize the significantly different facial features."
   ]
  },
  {
   "attachments": {},
   "cell_type": "markdown",
   "metadata": {},
   "source": [
    "## 5.4 Hacks\n",
    "\n",
    "# Crowdsource Project\n",
    "\n",
    "One idea is a survey on whether or not the AP College Board should allow students to use Chat GPT and redesign the rest with that in mind.\n",
    "\n",
    "For my project specifically I could create a survey about potential features for a chat website and also phrases to use for the random aspect. I could possibly collect random phrases and add them to the API."
   ]
  },
  {
   "cell_type": "code",
   "execution_count": null,
   "metadata": {},
   "outputs": [],
   "source": []
  }
 ],
 "metadata": {
  "kernelspec": {
   "display_name": "Python 3",
   "language": "python",
   "name": "python3"
  },
  "language_info": {
   "name": "python",
   "version": "3.8.10 (default, Jun 22 2022, 20:18:18) \n[GCC 9.4.0]"
  },
  "orig_nbformat": 4,
  "vscode": {
   "interpreter": {
    "hash": "916dbcbb3f70747c44a77c7bcd40155683ae19c65e1c03b4aa3499c5328201f1"
   }
  }
 },
 "nbformat": 4,
 "nbformat_minor": 2
}
