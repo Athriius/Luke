{
 "cells": [
  {
   "cell_type": "markdown",
   "metadata": {},
   "source": [
    "# Week 14 Notes: Naming Variables\n",
    "> How Naming Variables work and how operators work.\n",
    "\n",
    "- toc: true \n",
    "- badges: true\n",
    "- comments: true\n",
    "- categories: [jupyter, Week 14]"
   ]
  },
  {
   "cell_type": "markdown",
   "metadata": {},
   "source": [
    "# Variables\n",
    "\n",
    "* Make it simple and easy to read\n",
    "* Differentiate words with capital letters\n",
    "* Don't make it to vague (eg. name instead of n)\n",
    "* Spaces in variables is inproper syntax\n",
    "* Dashes are improper syntax and numbers should be avoided"
   ]
  },
  {
   "cell_type": "markdown",
   "metadata": {},
   "source": [
    "3 types\n",
    "* Boolean: True/False\n",
    "* Number: 4\n",
    "* String: Any non-number"
   ]
  },
  {
   "cell_type": "markdown",
   "metadata": {},
   "source": [
    "# Assignments\n",
    "\n",
    "* Assignment operator allows a program to change the value represented by a variable\n"
   ]
  },
  {
   "cell_type": "code",
   "execution_count": null,
   "metadata": {},
   "outputs": [],
   "source": [
    "a = 1\n",
    "b = 2\n",
    "a = b\n",
    "print(a)"
   ]
  },
  {
   "cell_type": "markdown",
   "metadata": {},
   "source": [
    "The value estored will be the most recent value that was assigned."
   ]
  },
  {
   "cell_type": "code",
   "execution_count": 1,
   "metadata": {},
   "outputs": [
    {
     "name": "stdout",
     "output_type": "stream",
     "text": [
      "10\n",
      "7\n"
     ]
    }
   ],
   "source": [
    "currentScore = 10\n",
    "highScore = currentScore\n",
    "currentScore = 7\n",
    "\n",
    "print(highScore)\n",
    "print(currentScore)"
   ]
  },
  {
   "cell_type": "code",
   "execution_count": null,
   "metadata": {},
   "outputs": [],
   "source": [
    "num1 = 15\n",
    "num2 = 25\n",
    "num3 = 42\n",
    "num2 = num3\n",
    "num3 = num1\n",
    "num1 = num2\n",
    "\n",
    "print(num1)\n",
    "print(num2)\n",
    "print(num3)"
   ]
  },
  {
   "cell_type": "markdown",
   "metadata": {},
   "source": [
    "# Data Abstraction\n",
    "* Used to represent data in a useful form\n",
    "* Types of tools for data abstraction include variables and lists\n",
    "* seperates abstract properties of a data type and its exact representation\n",
    "\n",
    "# Lists and Strings\n",
    "\n",
    "* List = ordered sequence of elements\n",
    "* Element = individual value in a list that is assigned to a unique index\n",
    "* Index = a way to reference the elements in a list or string using natural numbers; each element of a string is referenced by an index\n",
    "* String = ordered sequence of characters (Letters, numbers, special characters\n",
    "\n",
    "# Ex: List of colors\n",
    "\n",
    "| Index | Element |\n",
    "| 0 | red |\n",
    "| 1 | green |\n",
    "| 2 | blue |\n"
   ]
  },
  {
   "cell_type": "code",
   "execution_count": 8,
   "metadata": {},
   "outputs": [
    {
     "name": "stdout",
     "output_type": "stream",
     "text": [
      "red\n"
     ]
    }
   ],
   "source": [
    "colorList=[\"red\", \"green\", \"blue\"]\n",
    "\n",
    "print(colorList[0])"
   ]
  },
  {
   "cell_type": "markdown",
   "metadata": {},
   "source": [
    "# Assignment: Lists"
   ]
  },
  {
   "cell_type": "code",
   "execution_count": 16,
   "metadata": {},
   "outputs": [
    {
     "name": "stdout",
     "output_type": "stream",
     "text": [
      "green\n",
      "red\n",
      "pink\n",
      "purple\n",
      "blue\n",
      "brown\n",
      "\n",
      "green\n",
      "red\n",
      "pink\n",
      "purple\n",
      "blue\n",
      "brown\n"
     ]
    }
   ],
   "source": [
    "colorsList=[\"green\", \"red\", \"pink\", \"purple\", \"blue\", \"brown\"]\n",
    "\n",
    "print(colorsList[0])\n",
    "print(colorsList[1])\n",
    "print(colorsList[2])\n",
    "print(colorsList[3])\n",
    "print(colorsList[4])\n",
    "print(colorsList[5])\n",
    "\n",
    "print()\n",
    "\n",
    "for i in colorsList: \n",
    "    print(i)"
   ]
  },
  {
   "cell_type": "markdown",
   "metadata": {},
   "source": [
    "# AP Exam Data Abstraction\n",
    "\n",
    "In the AP Exam index starts at 1 and not 0\n",
    "\n",
    "Also, there is only one method of interchanging data between lists, and that is completely overwriting previous list data with the other list\\n\",\n",
    "\n",
    "# For Future lessons\n",
    "\n",
    "Wgit is a command that can bring a notebook from github to local machine"
   ]
  },
  {
   "cell_type": "code",
   "execution_count": 7,
   "metadata": {},
   "outputs": [
    {
     "name": "stdout",
     "output_type": "stream",
     "text": [
      "2+2\n",
      "\n",
      "Correct! Score: \n",
      "Final score: 1\n"
     ]
    }
   ],
   "source": [
    "quesCount = 0\n",
    "score = 0\n",
    "\n",
    "# Use a dictionary for the questions\n",
    "quesList = [\"2+2\", \"2*2\", \"2*4\", \"2/2\"]\n",
    "\n",
    "# Use a dictionary for the correct solutions\n",
    "soluList = [\"4\", \"4\", \"8\", \"1\"]\n",
    "\n",
    "quesAmount= len(quesList)\n",
    "\n",
    "if quesCount <= quesAmount:\n",
    "    print(quesList[quesCount] + \"\\n\")\n",
    "    guess = input()\n",
    "    if (guess == soluList[quesCount]):\n",
    "        score+=1\n",
    "        print(\"Correct! Score: \")\n",
    "    else: \n",
    "        print(\"Incorrect! The correct answer was \" + soluList(quesCount) + \"\\n\")\n",
    "    quesCount += 1\n",
    "\n",
    "\n",
    "\n",
    "\n",
    "print(\"Final score: \" + str(score))"
   ]
  }
 ],
 "metadata": {
  "kernelspec": {
   "display_name": "Python 3.8.10 64-bit",
   "language": "python",
   "name": "python3"
  },
  "language_info": {
   "codemirror_mode": {
    "name": "ipython",
    "version": 3
   },
   "file_extension": ".py",
   "mimetype": "text/x-python",
   "name": "python",
   "nbconvert_exporter": "python",
   "pygments_lexer": "ipython3",
   "version": "3.8.10"
  },
  "orig_nbformat": 4,
  "vscode": {
   "interpreter": {
    "hash": "916dbcbb3f70747c44a77c7bcd40155683ae19c65e1c03b4aa3499c5328201f1"
   }
  }
 },
 "nbformat": 4,
 "nbformat_minor": 2
}
