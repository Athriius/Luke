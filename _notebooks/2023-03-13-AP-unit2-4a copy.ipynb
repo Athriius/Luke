{
 "cells": [
  {
   "attachments": {},
   "cell_type": "markdown",
   "metadata": {},
   "source": [
    "#  Hacks: MovieChat Movie Database.\n",
    "> Using python to create a database for my movie review website\n",
    "- toc: true\n",
    "- image: /images/python.png\n",
    "- categories: []\n",
    "- type: ap\n",
    "- week: 26"
   ]
  },
  {
   "cell_type": "code",
   "execution_count": 2,
   "metadata": {},
   "outputs": [],
   "source": [
    "\"\"\"\n",
    "These imports define the key objects\n",
    "\"\"\"\n",
    "\n",
    "from flask import Flask\n",
    "from flask_sqlalchemy import SQLAlchemy\n",
    "\n",
    "\"\"\"\n",
    "These object and definitions are used throughout the Jupyter Notebook.\n",
    "\"\"\"\n",
    "\n",
    "# Setup of key Flask object (app)\n",
    "app = Flask(__name__)\n",
    "# Setup SQLAlchemy object and properties for the database (db)\n",
    "database = 'sqlite:///sqlite.db'  # path and filename of database\n",
    "app.config['SQLALCHEMY_TRACK_MODIFICATIONS'] = False\n",
    "app.config['SQLALCHEMY_DATABASE_URI'] = database\n",
    "app.config['SECRET_KEY'] = 'SECRET_KEY'\n",
    "db = SQLAlchemy()\n",
    "\n",
    "\n",
    "# This belongs in place where it runs once per project\n",
    "db.init_app(app)\n"
   ]
  },
  {
   "attachments": {},
   "cell_type": "markdown",
   "metadata": {},
   "source": [
    "## Model Definition\n",
    "> Define columns, initialization, and CRUD methods for movies table in sqlite.db\n",
    "\n",
    "- Comment on these items in the class, purpose and defintion.\n",
    "    - class Movie\n",
    "    - db.Model inheritance\n",
    "    - _init_ method\n",
    "    - ```@property```, ```@<column>.setter```\n",
    "    - create, read, update, delete methods"
   ]
  },
  {
   "cell_type": "code",
   "execution_count": 4,
   "metadata": {},
   "outputs": [
    {
     "name": "stderr",
     "output_type": "stream",
     "text": [
      "/home/luke_angelini/anaconda3/lib/python3.9/site-packages/flask_sqlalchemy/model.py:120: SAWarning: This declarative base already contains a class with the same class name and module name as __main__.Movie, and will be replaced in the string-lookup table.\n",
      "  super().__init__(name, bases, d, **kwargs)\n"
     ]
    },
    {
     "ename": "InvalidRequestError",
     "evalue": "Table 'movies' is already defined for this MetaData instance.  Specify 'extend_existing=True' to redefine options and columns on an existing Table object.",
     "output_type": "error",
     "traceback": [
      "\u001b[0;31m---------------------------------------------------------------------------\u001b[0m",
      "\u001b[0;31mInvalidRequestError\u001b[0m                       Traceback (most recent call last)",
      "\u001b[1;32m/home/luke_angelini/Luke1/_notebooks/2023-03-13-AP-unit2-4a copy.ipynb Cell 6\u001b[0m in \u001b[0;36m<cell line: 17>\u001b[0;34m()\u001b[0m\n\u001b[1;32m     <a href='vscode-notebook-cell://wsl%2Bubuntu/home/luke_angelini/Luke1/_notebooks/2023-03-13-AP-unit2-4a%20copy.ipynb#W5sdnNjb2RlLXJlbW90ZQ%3D%3D?line=9'>10</a>\u001b[0m \u001b[39m''' Tutorial: https://www.sqlalchemy.org/library.html#tutorials, try to get into a Python shell and follow along '''\u001b[39;00m\n\u001b[1;32m     <a href='vscode-notebook-cell://wsl%2Bubuntu/home/luke_angelini/Luke1/_notebooks/2023-03-13-AP-unit2-4a%20copy.ipynb#W5sdnNjb2RlLXJlbW90ZQ%3D%3D?line=11'>12</a>\u001b[0m \u001b[39m# Define the Movie class to manage actions in the 'movies' table\u001b[39;00m\n\u001b[1;32m     <a href='vscode-notebook-cell://wsl%2Bubuntu/home/luke_angelini/Luke1/_notebooks/2023-03-13-AP-unit2-4a%20copy.ipynb#W5sdnNjb2RlLXJlbW90ZQ%3D%3D?line=12'>13</a>\u001b[0m \u001b[39m# -- Object Relational Mapping (ORM) is the key concept of SQLAlchemy\u001b[39;00m\n\u001b[1;32m     <a href='vscode-notebook-cell://wsl%2Bubuntu/home/luke_angelini/Luke1/_notebooks/2023-03-13-AP-unit2-4a%20copy.ipynb#W5sdnNjb2RlLXJlbW90ZQ%3D%3D?line=13'>14</a>\u001b[0m \u001b[39m# -- a.) db.Model is like an inner layer of the onion in ORM\u001b[39;00m\n\u001b[1;32m     <a href='vscode-notebook-cell://wsl%2Bubuntu/home/luke_angelini/Luke1/_notebooks/2023-03-13-AP-unit2-4a%20copy.ipynb#W5sdnNjb2RlLXJlbW90ZQ%3D%3D?line=14'>15</a>\u001b[0m \u001b[39m# -- b.) Movie represents data we want to store, something that is built on db.Model\u001b[39;00m\n\u001b[1;32m     <a href='vscode-notebook-cell://wsl%2Bubuntu/home/luke_angelini/Luke1/_notebooks/2023-03-13-AP-unit2-4a%20copy.ipynb#W5sdnNjb2RlLXJlbW90ZQ%3D%3D?line=15'>16</a>\u001b[0m \u001b[39m# -- c.) SQLAlchemy ORM is layer on top of SQLAlchemy Core, then SQLAlchemy engine, SQL\u001b[39;00m\n\u001b[0;32m---> <a href='vscode-notebook-cell://wsl%2Bubuntu/home/luke_angelini/Luke1/_notebooks/2023-03-13-AP-unit2-4a%20copy.ipynb#W5sdnNjb2RlLXJlbW90ZQ%3D%3D?line=16'>17</a>\u001b[0m \u001b[39mclass\u001b[39;00m \u001b[39mMovie\u001b[39;00m(db\u001b[39m.\u001b[39mModel):\n\u001b[1;32m     <a href='vscode-notebook-cell://wsl%2Bubuntu/home/luke_angelini/Luke1/_notebooks/2023-03-13-AP-unit2-4a%20copy.ipynb#W5sdnNjb2RlLXJlbW90ZQ%3D%3D?line=17'>18</a>\u001b[0m     __tablename__ \u001b[39m=\u001b[39m \u001b[39m'\u001b[39m\u001b[39mmovies\u001b[39m\u001b[39m'\u001b[39m  \u001b[39m# table name is plural, class name is singular\u001b[39;00m\n\u001b[1;32m     <a href='vscode-notebook-cell://wsl%2Bubuntu/home/luke_angelini/Luke1/_notebooks/2023-03-13-AP-unit2-4a%20copy.ipynb#W5sdnNjb2RlLXJlbW90ZQ%3D%3D?line=19'>20</a>\u001b[0m     \u001b[39m# Define the Movie schema with \"vars\" from object\u001b[39;00m\n",
      "File \u001b[0;32m~/anaconda3/lib/python3.9/site-packages/flask_sqlalchemy/model.py:100\u001b[0m, in \u001b[0;36mBindMetaMixin.__init__\u001b[0;34m(cls, name, bases, d, **kwargs)\u001b[0m\n\u001b[1;32m     97\u001b[0m     \u001b[39mif\u001b[39;00m metadata \u001b[39mis\u001b[39;00m \u001b[39mnot\u001b[39;00m parent_metadata:\n\u001b[1;32m     98\u001b[0m         \u001b[39mcls\u001b[39m\u001b[39m.\u001b[39mmetadata \u001b[39m=\u001b[39m metadata\n\u001b[0;32m--> 100\u001b[0m \u001b[39msuper\u001b[39;49m()\u001b[39m.\u001b[39;49m\u001b[39m__init__\u001b[39;49m(name, bases, d, \u001b[39m*\u001b[39;49m\u001b[39m*\u001b[39;49mkwargs)\n",
      "File \u001b[0;32m~/anaconda3/lib/python3.9/site-packages/flask_sqlalchemy/model.py:120\u001b[0m, in \u001b[0;36mNameMetaMixin.__init__\u001b[0;34m(cls, name, bases, d, **kwargs)\u001b[0m\n\u001b[1;32m    117\u001b[0m \u001b[39mif\u001b[39;00m should_set_tablename(\u001b[39mcls\u001b[39m):\n\u001b[1;32m    118\u001b[0m     \u001b[39mcls\u001b[39m\u001b[39m.\u001b[39m__tablename__ \u001b[39m=\u001b[39m camel_to_snake_case(\u001b[39mcls\u001b[39m\u001b[39m.\u001b[39m\u001b[39m__name__\u001b[39m)\n\u001b[0;32m--> 120\u001b[0m \u001b[39msuper\u001b[39;49m()\u001b[39m.\u001b[39;49m\u001b[39m__init__\u001b[39;49m(name, bases, d, \u001b[39m*\u001b[39;49m\u001b[39m*\u001b[39;49mkwargs)\n\u001b[1;32m    122\u001b[0m \u001b[39m# __table_cls__ has run. If no table was created, use the parent table.\u001b[39;00m\n\u001b[1;32m    123\u001b[0m \u001b[39mif\u001b[39;00m (\n\u001b[1;32m    124\u001b[0m     \u001b[39m\"\u001b[39m\u001b[39m__tablename__\u001b[39m\u001b[39m\"\u001b[39m \u001b[39mnot\u001b[39;00m \u001b[39min\u001b[39;00m \u001b[39mcls\u001b[39m\u001b[39m.\u001b[39m\u001b[39m__dict__\u001b[39m\n\u001b[1;32m    125\u001b[0m     \u001b[39mand\u001b[39;00m \u001b[39m\"\u001b[39m\u001b[39m__table__\u001b[39m\u001b[39m\"\u001b[39m \u001b[39min\u001b[39;00m \u001b[39mcls\u001b[39m\u001b[39m.\u001b[39m\u001b[39m__dict__\u001b[39m\n\u001b[1;32m    126\u001b[0m     \u001b[39mand\u001b[39;00m \u001b[39mcls\u001b[39m\u001b[39m.\u001b[39m\u001b[39m__dict__\u001b[39m[\u001b[39m\"\u001b[39m\u001b[39m__table__\u001b[39m\u001b[39m\"\u001b[39m] \u001b[39mis\u001b[39;00m \u001b[39mNone\u001b[39;00m\n\u001b[1;32m    127\u001b[0m ):\n",
      "File \u001b[0;32m~/anaconda3/lib/python3.9/site-packages/sqlalchemy/orm/decl_api.py:199\u001b[0m, in \u001b[0;36mDeclarativeMeta.__init__\u001b[0;34m(cls, classname, bases, dict_, **kw)\u001b[0m\n\u001b[1;32m    196\u001b[0m         \u001b[39mcls\u001b[39m\u001b[39m.\u001b[39m_sa_registry \u001b[39m=\u001b[39m reg\n\u001b[1;32m    198\u001b[0m \u001b[39mif\u001b[39;00m \u001b[39mnot\u001b[39;00m \u001b[39mcls\u001b[39m\u001b[39m.\u001b[39m\u001b[39m__dict__\u001b[39m\u001b[39m.\u001b[39mget(\u001b[39m\"\u001b[39m\u001b[39m__abstract__\u001b[39m\u001b[39m\"\u001b[39m, \u001b[39mFalse\u001b[39;00m):\n\u001b[0;32m--> 199\u001b[0m     _as_declarative(reg, \u001b[39mcls\u001b[39;49m, dict_)\n\u001b[1;32m    200\u001b[0m \u001b[39mtype\u001b[39m\u001b[39m.\u001b[39m\u001b[39m__init__\u001b[39m(\u001b[39mcls\u001b[39m, classname, bases, dict_)\n",
      "File \u001b[0;32m~/anaconda3/lib/python3.9/site-packages/sqlalchemy/orm/decl_base.py:248\u001b[0m, in \u001b[0;36m_as_declarative\u001b[0;34m(registry, cls, dict_)\u001b[0m\n\u001b[1;32m    242\u001b[0m \u001b[39mdef\u001b[39;00m \u001b[39m_as_declarative\u001b[39m(\n\u001b[1;32m    243\u001b[0m     registry: _RegistryType, \u001b[39mcls\u001b[39m: Type[Any], dict_: _ClassDict\n\u001b[1;32m    244\u001b[0m ) \u001b[39m-\u001b[39m\u001b[39m>\u001b[39m Optional[_MapperConfig]:\n\u001b[1;32m    245\u001b[0m \n\u001b[1;32m    246\u001b[0m     \u001b[39m# declarative scans the class for attributes.  no table or mapper\u001b[39;00m\n\u001b[1;32m    247\u001b[0m     \u001b[39m# args passed separately.\u001b[39;00m\n\u001b[0;32m--> 248\u001b[0m     \u001b[39mreturn\u001b[39;00m _MapperConfig\u001b[39m.\u001b[39;49msetup_mapping(registry, \u001b[39mcls\u001b[39;49m, dict_, \u001b[39mNone\u001b[39;49;00m, {})\n",
      "File \u001b[0;32m~/anaconda3/lib/python3.9/site-packages/sqlalchemy/orm/decl_base.py:329\u001b[0m, in \u001b[0;36m_MapperConfig.setup_mapping\u001b[0;34m(cls, registry, cls_, dict_, table, mapper_kw)\u001b[0m\n\u001b[1;32m    325\u001b[0m     \u001b[39mreturn\u001b[39;00m _DeferredMapperConfig(\n\u001b[1;32m    326\u001b[0m         registry, cls_, dict_, table, mapper_kw\n\u001b[1;32m    327\u001b[0m     )\n\u001b[1;32m    328\u001b[0m \u001b[39melse\u001b[39;00m:\n\u001b[0;32m--> 329\u001b[0m     \u001b[39mreturn\u001b[39;00m _ClassScanMapperConfig(\n\u001b[1;32m    330\u001b[0m         registry, cls_, dict_, table, mapper_kw\n\u001b[1;32m    331\u001b[0m     )\n",
      "File \u001b[0;32m~/anaconda3/lib/python3.9/site-packages/sqlalchemy/orm/decl_base.py:578\u001b[0m, in \u001b[0;36m_ClassScanMapperConfig.__init__\u001b[0;34m(self, registry, cls_, dict_, table, mapper_kw)\u001b[0m\n\u001b[1;32m    574\u001b[0m \u001b[39mself\u001b[39m\u001b[39m.\u001b[39m_extract_mappable_attributes()\n\u001b[1;32m    576\u001b[0m \u001b[39mself\u001b[39m\u001b[39m.\u001b[39m_extract_declared_columns()\n\u001b[0;32m--> 578\u001b[0m \u001b[39mself\u001b[39;49m\u001b[39m.\u001b[39;49m_setup_table(table)\n\u001b[1;32m    580\u001b[0m \u001b[39mself\u001b[39m\u001b[39m.\u001b[39m_setup_inheriting_columns(mapper_kw)\n\u001b[1;32m    582\u001b[0m \u001b[39mself\u001b[39m\u001b[39m.\u001b[39m_early_mapping(mapper_kw)\n",
      "File \u001b[0;32m~/anaconda3/lib/python3.9/site-packages/sqlalchemy/orm/decl_base.py:1663\u001b[0m, in \u001b[0;36m_ClassScanMapperConfig._setup_table\u001b[0;34m(self, table)\u001b[0m\n\u001b[1;32m   1655\u001b[0m             table_kw[\u001b[39m\"\u001b[39m\u001b[39mautoload\u001b[39m\u001b[39m\"\u001b[39m] \u001b[39m=\u001b[39m \u001b[39mTrue\u001b[39;00m\n\u001b[1;32m   1657\u001b[0m         sorted_columns \u001b[39m=\u001b[39m \u001b[39msorted\u001b[39m(\n\u001b[1;32m   1658\u001b[0m             declared_columns,\n\u001b[1;32m   1659\u001b[0m             key\u001b[39m=\u001b[39m\u001b[39mlambda\u001b[39;00m c: column_ordering\u001b[39m.\u001b[39mget(c, \u001b[39m0\u001b[39m),\n\u001b[1;32m   1660\u001b[0m         )\n\u001b[1;32m   1661\u001b[0m         table \u001b[39m=\u001b[39m \u001b[39mself\u001b[39m\u001b[39m.\u001b[39mset_cls_attribute(\n\u001b[1;32m   1662\u001b[0m             \u001b[39m\"\u001b[39m\u001b[39m__table__\u001b[39m\u001b[39m\"\u001b[39m,\n\u001b[0;32m-> 1663\u001b[0m             table_cls(\n\u001b[1;32m   1664\u001b[0m                 tablename,\n\u001b[1;32m   1665\u001b[0m                 \u001b[39mself\u001b[39;49m\u001b[39m.\u001b[39;49m_metadata_for_cls(manager),\n\u001b[1;32m   1666\u001b[0m                 \u001b[39m*\u001b[39;49msorted_columns,\n\u001b[1;32m   1667\u001b[0m                 \u001b[39m*\u001b[39;49margs,\n\u001b[1;32m   1668\u001b[0m                 \u001b[39m*\u001b[39;49m\u001b[39m*\u001b[39;49mtable_kw,\n\u001b[1;32m   1669\u001b[0m             ),\n\u001b[1;32m   1670\u001b[0m         )\n\u001b[1;32m   1671\u001b[0m \u001b[39melse\u001b[39;00m:\n\u001b[1;32m   1672\u001b[0m     \u001b[39mif\u001b[39;00m table \u001b[39mis\u001b[39;00m \u001b[39mNone\u001b[39;00m:\n",
      "File \u001b[0;32m~/anaconda3/lib/python3.9/site-packages/flask_sqlalchemy/model.py:147\u001b[0m, in \u001b[0;36mNameMetaMixin.__table_cls__\u001b[0;34m(cls, *args, **kwargs)\u001b[0m\n\u001b[1;32m    144\u001b[0m \u001b[39m# Check if a table with this name already exists. Allows reflected tables to be\u001b[39;00m\n\u001b[1;32m    145\u001b[0m \u001b[39m# applied to models by name.\u001b[39;00m\n\u001b[1;32m    146\u001b[0m \u001b[39mif\u001b[39;00m key \u001b[39min\u001b[39;00m \u001b[39mcls\u001b[39m\u001b[39m.\u001b[39mmetadata\u001b[39m.\u001b[39mtables:\n\u001b[0;32m--> 147\u001b[0m     \u001b[39mreturn\u001b[39;00m sa\u001b[39m.\u001b[39;49mTable(\u001b[39m*\u001b[39;49margs, \u001b[39m*\u001b[39;49m\u001b[39m*\u001b[39;49mkwargs)\n\u001b[1;32m    149\u001b[0m \u001b[39m# If a primary key is found, create a table for joined-table inheritance.\u001b[39;00m\n\u001b[1;32m    150\u001b[0m \u001b[39mfor\u001b[39;00m arg \u001b[39min\u001b[39;00m args:\n",
      "File \u001b[0;32m<string>:2\u001b[0m, in \u001b[0;36m__new__\u001b[0;34m(cls, *args, **kw)\u001b[0m\n",
      "File \u001b[0;32m~/anaconda3/lib/python3.9/site-packages/sqlalchemy/util/deprecations.py:277\u001b[0m, in \u001b[0;36mdeprecated_params.<locals>.decorate.<locals>.warned\u001b[0;34m(fn, *args, **kwargs)\u001b[0m\n\u001b[1;32m    270\u001b[0m     \u001b[39mif\u001b[39;00m m \u001b[39min\u001b[39;00m kwargs:\n\u001b[1;32m    271\u001b[0m         _warn_with_version(\n\u001b[1;32m    272\u001b[0m             messages[m],\n\u001b[1;32m    273\u001b[0m             versions[m],\n\u001b[1;32m    274\u001b[0m             version_warnings[m],\n\u001b[1;32m    275\u001b[0m             stacklevel\u001b[39m=\u001b[39m\u001b[39m3\u001b[39m,\n\u001b[1;32m    276\u001b[0m         )\n\u001b[0;32m--> 277\u001b[0m \u001b[39mreturn\u001b[39;00m fn(\u001b[39m*\u001b[39;49margs, \u001b[39m*\u001b[39;49m\u001b[39m*\u001b[39;49mkwargs)\n",
      "File \u001b[0;32m~/anaconda3/lib/python3.9/site-packages/sqlalchemy/sql/schema.py:428\u001b[0m, in \u001b[0;36mTable.__new__\u001b[0;34m(cls, *args, **kw)\u001b[0m\n\u001b[1;32m    421\u001b[0m \u001b[39m@util\u001b[39m\u001b[39m.\u001b[39mdeprecated_params(\n\u001b[1;32m    422\u001b[0m     mustexist\u001b[39m=\u001b[39m(\n\u001b[1;32m    423\u001b[0m         \u001b[39m\"\u001b[39m\u001b[39m1.4\u001b[39m\u001b[39m\"\u001b[39m,\n\u001b[0;32m   (...)\u001b[0m\n\u001b[1;32m    426\u001b[0m )\n\u001b[1;32m    427\u001b[0m \u001b[39mdef\u001b[39;00m \u001b[39m__new__\u001b[39m(\u001b[39mcls\u001b[39m, \u001b[39m*\u001b[39margs: Any, \u001b[39m*\u001b[39m\u001b[39m*\u001b[39mkw: Any) \u001b[39m-\u001b[39m\u001b[39m>\u001b[39m Any:\n\u001b[0;32m--> 428\u001b[0m     \u001b[39mreturn\u001b[39;00m \u001b[39mcls\u001b[39;49m\u001b[39m.\u001b[39;49m_new(\u001b[39m*\u001b[39;49margs, \u001b[39m*\u001b[39;49m\u001b[39m*\u001b[39;49mkw)\n",
      "File \u001b[0;32m~/anaconda3/lib/python3.9/site-packages/sqlalchemy/sql/schema.py:460\u001b[0m, in \u001b[0;36mTable._new\u001b[0;34m(cls, *args, **kw)\u001b[0m\n\u001b[1;32m    458\u001b[0m \u001b[39mif\u001b[39;00m key \u001b[39min\u001b[39;00m metadata\u001b[39m.\u001b[39mtables:\n\u001b[1;32m    459\u001b[0m     \u001b[39mif\u001b[39;00m \u001b[39mnot\u001b[39;00m keep_existing \u001b[39mand\u001b[39;00m \u001b[39mnot\u001b[39;00m extend_existing \u001b[39mand\u001b[39;00m \u001b[39mbool\u001b[39m(args):\n\u001b[0;32m--> 460\u001b[0m         \u001b[39mraise\u001b[39;00m exc\u001b[39m.\u001b[39mInvalidRequestError(\n\u001b[1;32m    461\u001b[0m             \u001b[39m\"\u001b[39m\u001b[39mTable \u001b[39m\u001b[39m'\u001b[39m\u001b[39m%s\u001b[39;00m\u001b[39m'\u001b[39m\u001b[39m is already defined for this MetaData \u001b[39m\u001b[39m\"\u001b[39m\n\u001b[1;32m    462\u001b[0m             \u001b[39m\"\u001b[39m\u001b[39minstance.  Specify \u001b[39m\u001b[39m'\u001b[39m\u001b[39mextend_existing=True\u001b[39m\u001b[39m'\u001b[39m\u001b[39m \u001b[39m\u001b[39m\"\u001b[39m\n\u001b[1;32m    463\u001b[0m             \u001b[39m\"\u001b[39m\u001b[39mto redefine \u001b[39m\u001b[39m\"\u001b[39m\n\u001b[1;32m    464\u001b[0m             \u001b[39m\"\u001b[39m\u001b[39moptions and columns on an \u001b[39m\u001b[39m\"\u001b[39m\n\u001b[1;32m    465\u001b[0m             \u001b[39m\"\u001b[39m\u001b[39mexisting Table object.\u001b[39m\u001b[39m\"\u001b[39m \u001b[39m%\u001b[39m key\n\u001b[1;32m    466\u001b[0m         )\n\u001b[1;32m    467\u001b[0m     table \u001b[39m=\u001b[39m metadata\u001b[39m.\u001b[39mtables[key]\n\u001b[1;32m    468\u001b[0m     \u001b[39mif\u001b[39;00m extend_existing:\n",
      "\u001b[0;31mInvalidRequestError\u001b[0m: Table 'movies' is already defined for this MetaData instance.  Specify 'extend_existing=True' to redefine options and columns on an existing Table object."
     ]
    }
   ],
   "source": [
    "\"\"\" database dependencies to support sqlite examples \"\"\"\n",
    "import datetime\n",
    "from datetime import datetime\n",
    "import json\n",
    "\n",
    "from sqlalchemy.exc import IntegrityError\n",
    "from werkzeug.security import generate_password_hash, check_password_hash\n",
    "\n",
    "\n",
    "''' Tutorial: https://www.sqlalchemy.org/library.html#tutorials, try to get into a Python shell and follow along '''\n",
    "\n",
    "# Define the Movie class to manage actions in the 'movies' table\n",
    "# -- Object Relational Mapping (ORM) is the key concept of SQLAlchemy\n",
    "# -- a.) db.Model is like an inner layer of the onion in ORM\n",
    "# -- b.) Movie represents data we want to store, something that is built on db.Model\n",
    "# -- c.) SQLAlchemy ORM is layer on top of SQLAlchemy Core, then SQLAlchemy engine, SQL\n",
    "class Movie(db.Model):\n",
    "    __tablename__ = 'movies'  # table name is plural, class name is singular\n",
    "\n",
    "    # Define the Movie schema with \"vars\" from object\n",
    "    id = db.Column(db.Integer, primary_key=True)\n",
    "    _name = db.Column(db.String(255), unique=False, nullable=False)\n",
    "    _uid = db.Column(db.String(255), unique=True, nullable=False)\n",
    "    _password = db.Column(db.String(255), unique=False, nullable=False)\n",
    "    _reason = db.Column(db.String(255), unique=False, nullable=False)\n",
    "\n",
    "    # constructor of a Movie object, initializes the instance variables within object (self)\n",
    "    def __init__(self, name, uid, reason, password=\"123qwerty\",):\n",
    "        self._name = name    # variables with self prefix become part of the object, \n",
    "        self._uid = uid\n",
    "        self.set_password(password)\n",
    "        self._reason = reason\n",
    "\n",
    "    # a name getter method, extracts name from object\n",
    "    @property\n",
    "    def name(self):\n",
    "        return self._name\n",
    "    \n",
    "    # a setter function, allows name to be updated after initial object creation\n",
    "    @name.setter\n",
    "    def name(self, name):\n",
    "        self._name = name\n",
    "    \n",
    "    # a getter method, extracts uid from object\n",
    "    @property\n",
    "    def uid(self):\n",
    "        return self._uid\n",
    "    \n",
    "    # a setter function, allows uid to be updated after initial object creation\n",
    "    @uid.setter\n",
    "    def uid(self, uid):\n",
    "        self._uid = uid\n",
    "        \n",
    "    # check if uid parameter matches user id in object, return boolean\n",
    "    def is_uid(self, uid):\n",
    "        return self._uid == uid\n",
    "    \n",
    "    @property\n",
    "    def password(self):\n",
    "        return self._password[0:10] + \"...\" # because of security only show 1st characters\n",
    "\n",
    "    # update password, this is conventional method used for setter\n",
    "    def set_password(self, password):\n",
    "        \"\"\"Create a hashed password.\"\"\"\n",
    "        self._password = generate_password_hash(password, method='sha256')\n",
    "\n",
    "    # check password parameter against stored/encrypted password\n",
    "    def is_password(self, password):\n",
    "        \"\"\"Check against hashed password.\"\"\"\n",
    "        result = check_password_hash(self._password, password)\n",
    "        return result\n",
    "    \n",
    "    @property\n",
    "    def reason(self):\n",
    "        return self._reason\n",
    "    \n",
    "    # a setter function, allows uid to be updated after initial object creation\n",
    "    @reason.setter\n",
    "    def reason(self, reason):\n",
    "        self._reason = reason\n",
    "        \n",
    "    # check if uid parameter matches user id in object, return boolean\n",
    "    def is_reason(self, reason):\n",
    "        return self._reason == reason\n",
    "    \n",
    "    # output content using str(object) is in human readable form\n",
    "    # output content using json dumps, this is ready for API response\n",
    "    def __str__(self):\n",
    "        return json.dumps(self.read())\n",
    "\n",
    "    # CRUD create/add a new record to the table\n",
    "    # returns self or None on error\n",
    "    def create(self):\n",
    "        try:\n",
    "            # creates a person object from Movie(db.Model) class, passes initializers\n",
    "            db.session.add(self)  # add prepares to persist person object to Movies table\n",
    "            db.session.commit()  # SqlAlchemy \"unit of work pattern\" requires a manual commit\n",
    "            return self\n",
    "        except IntegrityError:\n",
    "            db.session.remove()\n",
    "            return None\n",
    "\n",
    "    # CRUD read converts self to dictionary\n",
    "    # returns dictionary\n",
    "    def read(self):\n",
    "        return {\n",
    "            \"id\": self.id,\n",
    "            \"name\": self.name,\n",
    "            \"uid\": self.uid,\n",
    "            \"reason\": self.reason,\n",
    "        }\n",
    "\n",
    "    # CRUD update: updates movie name, password, phone\n",
    "    # returns self\n",
    "    def update(self, name=\"\", uid=\"\", password=\"\", reason=\"\"):\n",
    "        \"\"\"only updates values with length\"\"\"\n",
    "        if len(name) > 0:\n",
    "            self.name = name\n",
    "        if len(uid) > 0:\n",
    "            self.uid = uid\n",
    "        if len(password) > 0:\n",
    "            self.set_password(password)\n",
    "        if len(reason) > 0:\n",
    "            self.name = reason\n",
    "        db.session.add(self)\n",
    "        db.session.commit()\n",
    "        return self\n",
    "\n",
    "    # CRUD delete: remove self\n",
    "    # None\n",
    "    def delete(self):\n",
    "        db.session.delete(self)\n",
    "        db.session.commit()\n",
    "        return None\n",
    "    "
   ]
  },
  {
   "attachments": {},
   "cell_type": "markdown",
   "metadata": {},
   "source": [
    "## Initial Data\n",
    "> Uses SQLALchemy db.create_all() to initialize rows into sqlite.db\n",
    "\n",
    "- Comment on how these work?\n",
    "    1. Create All Tables from db Object\n",
    "    2. Movie Object Constructors\n",
    "    3. Try / Except \n"
   ]
  },
  {
   "cell_type": "code",
   "execution_count": 5,
   "metadata": {},
   "outputs": [
    {
     "name": "stdout",
     "output_type": "stream",
     "text": [
      "Records exist uid toby, or error.\n",
      "Records exist uid niko, or error.\n"
     ]
    }
   ],
   "source": [
    "\"\"\"Database Creation and Testing \"\"\"\n",
    "\n",
    "\n",
    "# Builds working data for testing\n",
    "def initMovies():\n",
    "    with app.app_context():\n",
    "        \"\"\"Create database and tables\"\"\"\n",
    "        db.create_all()\n",
    "        \"\"\"Tester data for table\"\"\"\n",
    "        u1 = Movie(name='Interstellar', uid='toby', password='123toby', reason='Beautiful graphics')\n",
    "        u2 = Movie(name='Click', uid='niko', password='123niko', reason='Adam Sandler funny')\n",
    "\n",
    "\n",
    "        movies = [u1, u2,]\n",
    "\n",
    "        \"\"\"Builds sample movie/note(s) data\"\"\"\n",
    "        for movie in movies:\n",
    "            try:\n",
    "                '''add movie to table'''\n",
    "                object = movie.create()\n",
    "                print(f\"Created new uid {object.uid}\")\n",
    "            except:  # error raised if object nit created\n",
    "                '''fails with bad or duplicate data'''\n",
    "                print(f\"Records exist uid {movie.uid}, or error.\")\n",
    "                \n",
    "initMovies()"
   ]
  },
  {
   "attachments": {},
   "cell_type": "markdown",
   "metadata": {},
   "source": [
    "## Check for given Credentials in movies table in sqlite.db\n",
    "> Use of ORM Query object and custom methods to identify movie to credentials uid and password\n",
    "\n",
    "- Comment on purpose of following\n",
    "    1. Movie.query.filter_by\n",
    "    2. movie.password"
   ]
  },
  {
   "cell_type": "code",
   "execution_count": 6,
   "metadata": {},
   "outputs": [],
   "source": [
    "# SQLAlchemy extracts single movie from database matching user id\n",
    "def find_by_uid(uid):\n",
    "    with app.app_context():\n",
    "        movie = Movie.query.filter_by(_uid=uid).first()\n",
    "    return movie # returns movie object\n",
    "\n",
    "# Check credentials by finding movie and verify password\n",
    "def check_credentials(uid, password):\n",
    "    # query email and return movie record\n",
    "    movie = find_by_uid(uid)\n",
    "    if movie == None:\n",
    "        return False\n",
    "    if (movie.is_password(password)):\n",
    "        return True\n",
    "    return False\n",
    "        \n",
    "#check_credentials(\"indi\", \"123qwerty\")"
   ]
  },
  {
   "attachments": {},
   "cell_type": "markdown",
   "metadata": {},
   "source": [
    "## Create a new Movie in table in Sqlite.db\n",
    "> Uses SQLALchemy and custom movie.create() method to add row.\n",
    "\n",
    "- Comment on purpose of following\n",
    "    1. movie.find_by_uid() and try/except\n",
    "    2. movie = Movie(...)\n",
    "    3. movie.dob and try/except\n",
    "    4. movie.create() and try/except"
   ]
  },
  {
   "cell_type": "code",
   "execution_count": 7,
   "metadata": {},
   "outputs": [
    {
     "name": "stdout",
     "output_type": "stream",
     "text": [
      "Created\n",
      " {'id': 3, 'name': 'Puss and Boots the Last Wish', 'uid': 'Luke', 'reason': 'the animation'}\n"
     ]
    }
   ],
   "source": [
    "# Inputs, Try/Except, and SQLAlchemy work together to build a valid database object\n",
    "def create():\n",
    "    # optimize movie time to see if uid exists\n",
    "    uid = input(\"Enter your user id:\")\n",
    "    movie = find_by_uid(uid)\n",
    "    try:\n",
    "        print(\"Found\\n\", movie.read())\n",
    "        return\n",
    "    except:\n",
    "        pass # keep going\n",
    "    \n",
    "    # request value that ensure creating valid object\n",
    "    name = input(\"Enter your film's name:\")\n",
    "    password = input(\"Enter your password\")\n",
    "    reason = input(\"Enter the reason you enjoyed the film\")\n",
    "    \n",
    "    # Initialize Movie object before date\n",
    "    movie = Movie(name=name, \n",
    "                uid=uid, \n",
    "                password=password,\n",
    "                reason=reason\n",
    "                )\n",
    "           \n",
    "    # write object to database\n",
    "    with app.app_context():\n",
    "        try:\n",
    "            object = movie.create()\n",
    "            print(\"Created\\n\", object.read())\n",
    "        except:  # error raised if object not created\n",
    "            print(\"Unknown error uid {uid}\")\n",
    "        \n",
    "create()"
   ]
  },
  {
   "attachments": {},
   "cell_type": "markdown",
   "metadata": {},
   "source": [
    "## Reading movies table in sqlite.db\n",
    "> Uses SQLALchemy query.all method to read data\n",
    "\n",
    "- Comment on purpose of following\n",
    "    1. Movie.query.all\n",
    "    2. json_ready assignment, google List Comprehension"
   ]
  },
  {
   "cell_type": "code",
   "execution_count": 8,
   "metadata": {},
   "outputs": [
    {
     "data": {
      "text/plain": [
       "[{'id': 1,\n",
       "  'name': 'Interstellar',\n",
       "  'uid': 'toby',\n",
       "  'reason': 'Beautiful graphics'},\n",
       " {'id': 2, 'name': 'Click', 'uid': 'niko', 'reason': 'Adam Sandler funny'},\n",
       " {'id': 3,\n",
       "  'name': 'Puss and Boots the Last Wish',\n",
       "  'uid': 'Luke',\n",
       "  'reason': 'the animation'}]"
      ]
     },
     "execution_count": 8,
     "metadata": {},
     "output_type": "execute_result"
    }
   ],
   "source": [
    "\n",
    "# SQLAlchemy extracts all movies from database, turns each movie into JSON\n",
    "def read():\n",
    "    with app.app_context():\n",
    "        table = Movie.query.all()\n",
    "    json_ready = [movie.read() for movie in table] # \"List Comprehensions\", for each movie add movie.read() to list\n",
    "    return json_ready\n",
    "\n",
    "read()"
   ]
  },
  {
   "attachments": {},
   "cell_type": "markdown",
   "metadata": {},
   "source": [
    "# Hacks\n",
    "- Add this Blog to you own Blogging site.  In the Blog add notes and observations on each code cell.\n",
    "- Change blog to your own database.\n",
    "- Add additional CRUD\n",
    "    - Add Update functionality to this blog.\n",
    "    - Add Delete functionality to this blog."
   ]
  },
  {
   "cell_type": "code",
   "execution_count": 10,
   "metadata": {},
   "outputs": [],
   "source": [
    "def update():\n",
    "    uid = input(\"Enter your user id:\")\n",
    "    movie = find_by_uid(uid)\n",
    "    try:\n",
    "        print(\"Found\\n\", movie.read())\n",
    "        pass\n",
    "    except:\n",
    "        return\n",
    "    \n",
    "    password = input(\"Enter your password:\")\n",
    "    if check_credentials(uid, password):\n",
    "        pass\n",
    "    else:\n",
    "        return\n",
    "    \n",
    "    nname = input(\"Enter your name\")\n",
    "    nuid = input(\"Enter your new user id\")\n",
    "    try:\n",
    "        print(\"Already exists\\n\", find_by_uid(nuid).read())\n",
    "        return\n",
    "    except:\n",
    "        pass\n",
    "\n",
    "    with app.app_context():\n",
    "        try:\n",
    "            object = movie.update(nname, nuid, \"\")\n",
    "            print(\"updated\\n\", object.read())\n",
    "        except:\n",
    "            print(\"Unknown error\")\n",
    "    \n",
    "        \n",
    "update()"
   ]
  },
  {
   "cell_type": "code",
   "execution_count": 46,
   "metadata": {},
   "outputs": [
    {
     "name": "stdout",
     "output_type": "stream",
     "text": [
      "Found\n",
      " {'id': 7, 'name': 'Luke', 'uid': 'Luke', 'dob': '03-15-2023', 'age': 0}\n"
     ]
    }
   ],
   "source": [
    "def delete():\n",
    "    uid = input(\"Enter your user id:\")\n",
    "    movie = find_by_uid(uid)\n",
    "    try:\n",
    "        print(\"Found\\n\", movie.read())\n",
    "        pass\n",
    "    except:\n",
    "        return\n",
    "    \n",
    "    password = input(\"Enter your password:\")\n",
    "    if check_credentials(uid, password):\n",
    "        pass\n",
    "    else:\n",
    "        return\n",
    "\n",
    "    with app.app_context():\n",
    "        try:\n",
    "            object = movie.delete()\n",
    "            print(\"deleted\\n\", object.read())\n",
    "        except:\n",
    "            print(\"Unknown error\")\n",
    "    \n",
    "        \n",
    "delete()"
   ]
  },
  {
   "cell_type": "code",
   "execution_count": 11,
   "metadata": {},
   "outputs": [
    {
     "name": "stdout",
     "output_type": "stream",
     "text": [
      "Created\n",
      " {'id': 4, 'name': 'Over The Hedge', 'uid': 'john', 'reason': 'Fun Comedy'}\n"
     ]
    }
   ],
   "source": [
    "def crud():\n",
    "    uinp = input(\"create, read, update, or delete?\")\n",
    "    if uinp.lower() == \"create\":\n",
    "        create()\n",
    "    elif uinp.lower() == \"read\":\n",
    "        read()\n",
    "    elif uinp.lower() == \"update\":\n",
    "        update()\n",
    "    elif uinp.lower() == \"delete\":\n",
    "        delete()\n",
    "    else:\n",
    "        print(\"Input Error\")\n",
    "crud()"
   ]
  }
 ],
 "metadata": {
  "kernelspec": {
   "display_name": "base",
   "language": "python",
   "name": "python3"
  },
  "language_info": {
   "codemirror_mode": {
    "name": "ipython",
    "version": 3
   },
   "file_extension": ".py",
   "mimetype": "text/x-python",
   "name": "python",
   "nbconvert_exporter": "python",
   "pygments_lexer": "ipython3",
   "version": "3.9.12"
  },
  "orig_nbformat": 4,
  "vscode": {
   "interpreter": {
    "hash": "8b82d5009c68ba5675978267e2b13a671f2a7143d61273c5a3813c97e0b2493d"
   }
  }
 },
 "nbformat": 4,
 "nbformat_minor": 2
}
