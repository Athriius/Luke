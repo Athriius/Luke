{
 "cells": [
  {
   "cell_type": "code",
   "execution_count": null,
   "metadata": {},
   "outputs": [],
   "source": [
    "import requests\n",
    "\n",
    "url = \"https://twinword-word-association-quiz.p.rapidapi.com/type1/\"\n",
    "\n",
    "querystring = {\"level\":\"3\",\"area\":\"sat\"}\n",
    "\n",
    "headers = {\n",
    "\t\"X-RapidAPI-Key\": \"9c2f17a5e1msh5ab83b6111c6c75p1ca21ejsna6673193cec0\",\n",
    "\t\"X-RapidAPI-Host\": \"twinword-word-association-quiz.p.rapidapi.com\"\n",
    "}\n",
    "\n",
    "response = requests.request(\"GET\", url, headers=headers, params=querystring)\n",
    "\n",
    "print(response.text)"
   ]
  }
 ],
 "metadata": {
  "kernelspec": {
   "display_name": "Python 3",
   "language": "python",
   "name": "python3"
  },
  "language_info": {
   "name": "python",
   "version": "3.8.5 (tags/v3.8.5:580fbb0, Jul 20 2020, 15:43:08) [MSC v.1926 32 bit (Intel)]"
  },
  "orig_nbformat": 4,
  "vscode": {
   "interpreter": {
    "hash": "fa85844c60a4bc7a0030ca459fc516772093c99cfc4a6a8434355f4140c3aa0a"
   }
  }
 },
 "nbformat": 4,
 "nbformat_minor": 2
}
