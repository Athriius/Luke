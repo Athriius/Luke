{
 "cells": [
  {
   "cell_type": "code",
   "execution_count": null,
   "metadata": {},
   "outputs": [],
   "source": [
    "import requests\n",
    "\n",
    "url = \"https://twinword-word-association-quiz.p.rapidapi.com/type1/\"\n",
    "\n",
    "querystring = {\"level\":\"3\",\"area\":\"sat\"}\n",
    "\n",
    "headers = {\n",
    "\t\"X-RapidAPI-Key\": \"9c2f17a5e1msh5ab83b6111c6c75p1ca21ejsna6673193cec0\",\n",
    "\t\"X-RapidAPI-Host\": \"twinword-word-association-quiz.p.rapidapi.com\"\n",
    "}\n",
    "\n",
    "response = requests.request(\"GET\", url, headers=headers, params=querystring)\n",
    "\n",
    "print(response.text)"
   ]
  }
 ],
 "metadata": {
  "kernelspec": {
   "display_name": "Python 3.9.12 ('base')",
   "language": "python",
   "name": "python3"
  },
  "language_info": {
   "name": "python",
   "version": "3.9.12"
  },
  "orig_nbformat": 4,
  "vscode": {
   "interpreter": {
    "hash": "47de41b41a5c01aac76b29a1a1ee08effab285173a27ad21503b4a75c91ee70c"
   }
  }
 },
 "nbformat": 4,
 "nbformat_minor": 2
}
